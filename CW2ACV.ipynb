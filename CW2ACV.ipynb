{
 "cells": [
  {
   "cell_type": "code",
   "execution_count": 1,
   "metadata": {
    "id": "S0D1BlDZDF84",
    "ExecuteTime": {
     "end_time": "2023-12-11T20:18:42.596748900Z",
     "start_time": "2023-12-11T20:18:42.590393100Z"
    }
   },
   "outputs": [],
   "source": [
    "import pandas as pd"
   ]
  },
  {
   "cell_type": "code",
   "execution_count": 2,
   "metadata": {
    "colab": {
     "base_uri": "https://localhost:8080/",
     "height": 322
    },
    "id": "WONwRvW_HoVY",
    "outputId": "5a4f0c09-737c-4c72-bed5-1bf6a5505f3b",
    "ExecuteTime": {
     "end_time": "2023-12-11T20:18:42.633066Z",
     "start_time": "2023-12-11T20:18:42.595746Z"
    }
   },
   "outputs": [],
   "source": [
    "df = pd.read_csv('who_suicide_statistics_modifed3.csv')"
   ]
  },
  {
   "cell_type": "markdown",
   "metadata": {
    "collapsed": false
   },
   "source": [
    "b. Exploring the data"
   ]
  },
  {
   "cell_type": "code",
   "execution_count": 3,
   "metadata": {
    "colab": {
     "base_uri": "https://localhost:8080/",
     "height": 238
    },
    "id": "F6XouDdUIQMk",
    "outputId": "f187755d-06dc-4d0c-b64f-ddd15507cece",
    "ExecuteTime": {
     "end_time": "2023-12-11T20:18:42.662136400Z",
     "start_time": "2023-12-11T20:18:42.633066Z"
    }
   },
   "outputs": [
    {
     "data": {
      "text/plain": "   country  year     sex          age suicides_no  population  HDI for year  \\\n0  Albania  1987    male  15-24 years          21      312900           NaN   \n1  Albania  1987    male  35-54 years          16      308000           NaN   \n2  Albania  1987  female  15-24 years          14      289700           NaN   \n3  Albania  1987    male    75+ years           1       21800           NaN   \n4  Albania  1987    male  25-34 years           9      274300           NaN   \n5  Albania  1987  female    75+ years           1       35600           NaN   \n\n   gdp_for_year ($)   \n0      2,156,624,900  \n1      2,156,624,900  \n2      2,156,624,900  \n3      2,156,624,900  \n4      2,156,624,900  \n5      2,156,624,900  ",
      "text/html": "<div>\n<style scoped>\n    .dataframe tbody tr th:only-of-type {\n        vertical-align: middle;\n    }\n\n    .dataframe tbody tr th {\n        vertical-align: top;\n    }\n\n    .dataframe thead th {\n        text-align: right;\n    }\n</style>\n<table border=\"1\" class=\"dataframe\">\n  <thead>\n    <tr style=\"text-align: right;\">\n      <th></th>\n      <th>country</th>\n      <th>year</th>\n      <th>sex</th>\n      <th>age</th>\n      <th>suicides_no</th>\n      <th>population</th>\n      <th>HDI for year</th>\n      <th>gdp_for_year ($)</th>\n    </tr>\n  </thead>\n  <tbody>\n    <tr>\n      <th>0</th>\n      <td>Albania</td>\n      <td>1987</td>\n      <td>male</td>\n      <td>15-24 years</td>\n      <td>21</td>\n      <td>312900</td>\n      <td>NaN</td>\n      <td>2,156,624,900</td>\n    </tr>\n    <tr>\n      <th>1</th>\n      <td>Albania</td>\n      <td>1987</td>\n      <td>male</td>\n      <td>35-54 years</td>\n      <td>16</td>\n      <td>308000</td>\n      <td>NaN</td>\n      <td>2,156,624,900</td>\n    </tr>\n    <tr>\n      <th>2</th>\n      <td>Albania</td>\n      <td>1987</td>\n      <td>female</td>\n      <td>15-24 years</td>\n      <td>14</td>\n      <td>289700</td>\n      <td>NaN</td>\n      <td>2,156,624,900</td>\n    </tr>\n    <tr>\n      <th>3</th>\n      <td>Albania</td>\n      <td>1987</td>\n      <td>male</td>\n      <td>75+ years</td>\n      <td>1</td>\n      <td>21800</td>\n      <td>NaN</td>\n      <td>2,156,624,900</td>\n    </tr>\n    <tr>\n      <th>4</th>\n      <td>Albania</td>\n      <td>1987</td>\n      <td>male</td>\n      <td>25-34 years</td>\n      <td>9</td>\n      <td>274300</td>\n      <td>NaN</td>\n      <td>2,156,624,900</td>\n    </tr>\n    <tr>\n      <th>5</th>\n      <td>Albania</td>\n      <td>1987</td>\n      <td>female</td>\n      <td>75+ years</td>\n      <td>1</td>\n      <td>35600</td>\n      <td>NaN</td>\n      <td>2,156,624,900</td>\n    </tr>\n  </tbody>\n</table>\n</div>"
     },
     "execution_count": 3,
     "metadata": {},
     "output_type": "execute_result"
    }
   ],
   "source": [
    "df.head(6)"
   ]
  },
  {
   "cell_type": "code",
   "execution_count": 4,
   "metadata": {
    "colab": {
     "base_uri": "https://localhost:8080/",
     "height": 238
    },
    "id": "A3h9fj4FSh_2",
    "outputId": "9b3e7f2c-d53a-43e9-84eb-a806e6af5285",
    "ExecuteTime": {
     "end_time": "2023-12-11T20:18:42.712240500Z",
     "start_time": "2023-12-11T20:18:42.650882700Z"
    }
   },
   "outputs": [
    {
     "data": {
      "text/plain": "           country  year     sex          age suicides_no  population  \\\n27834      Ukraine  2005  female  25-34 years         182     3380536   \n27835      Belgium  2011  female  25-34 years           6      707535   \n27836     Thailand  2016    male    75+ years         152     1124052   \n27837  Netherlands  1998  female  15-24 years          21      934500   \n27838      Grenada  2002  female   5-14 years         NaN       11760   \n27839       Mexico  1988  female    75+ years           7      614000   \n\n       HDI for year  gdp_for_year ($)   \n27834         0.713     86,142,018,069  \n27835         0.886    527,008,453,887  \n27836           NaN    411,755,164,833  \n27837           NaN    432,476,116,419  \n27838           NaN        540,336,926  \n27839           NaN    183,144,164,357  ",
      "text/html": "<div>\n<style scoped>\n    .dataframe tbody tr th:only-of-type {\n        vertical-align: middle;\n    }\n\n    .dataframe tbody tr th {\n        vertical-align: top;\n    }\n\n    .dataframe thead th {\n        text-align: right;\n    }\n</style>\n<table border=\"1\" class=\"dataframe\">\n  <thead>\n    <tr style=\"text-align: right;\">\n      <th></th>\n      <th>country</th>\n      <th>year</th>\n      <th>sex</th>\n      <th>age</th>\n      <th>suicides_no</th>\n      <th>population</th>\n      <th>HDI for year</th>\n      <th>gdp_for_year ($)</th>\n    </tr>\n  </thead>\n  <tbody>\n    <tr>\n      <th>27834</th>\n      <td>Ukraine</td>\n      <td>2005</td>\n      <td>female</td>\n      <td>25-34 years</td>\n      <td>182</td>\n      <td>3380536</td>\n      <td>0.713</td>\n      <td>86,142,018,069</td>\n    </tr>\n    <tr>\n      <th>27835</th>\n      <td>Belgium</td>\n      <td>2011</td>\n      <td>female</td>\n      <td>25-34 years</td>\n      <td>6</td>\n      <td>707535</td>\n      <td>0.886</td>\n      <td>527,008,453,887</td>\n    </tr>\n    <tr>\n      <th>27836</th>\n      <td>Thailand</td>\n      <td>2016</td>\n      <td>male</td>\n      <td>75+ years</td>\n      <td>152</td>\n      <td>1124052</td>\n      <td>NaN</td>\n      <td>411,755,164,833</td>\n    </tr>\n    <tr>\n      <th>27837</th>\n      <td>Netherlands</td>\n      <td>1998</td>\n      <td>female</td>\n      <td>15-24 years</td>\n      <td>21</td>\n      <td>934500</td>\n      <td>NaN</td>\n      <td>432,476,116,419</td>\n    </tr>\n    <tr>\n      <th>27838</th>\n      <td>Grenada</td>\n      <td>2002</td>\n      <td>female</td>\n      <td>5-14 years</td>\n      <td>NaN</td>\n      <td>11760</td>\n      <td>NaN</td>\n      <td>540,336,926</td>\n    </tr>\n    <tr>\n      <th>27839</th>\n      <td>Mexico</td>\n      <td>1988</td>\n      <td>female</td>\n      <td>75+ years</td>\n      <td>7</td>\n      <td>614000</td>\n      <td>NaN</td>\n      <td>183,144,164,357</td>\n    </tr>\n  </tbody>\n</table>\n</div>"
     },
     "execution_count": 4,
     "metadata": {},
     "output_type": "execute_result"
    }
   ],
   "source": [
    "df.tail(6)"
   ]
  },
  {
   "cell_type": "code",
   "execution_count": 5,
   "metadata": {
    "colab": {
     "base_uri": "https://localhost:8080/"
    },
    "id": "3-foogRlIWBm",
    "outputId": "37499d95-8b6a-4fec-c864-384fd073a752",
    "ExecuteTime": {
     "end_time": "2023-12-11T20:18:42.728318500Z",
     "start_time": "2023-12-11T20:18:42.664648200Z"
    }
   },
   "outputs": [
    {
     "name": "stdout",
     "output_type": "stream",
     "text": [
      "<class 'pandas.core.frame.DataFrame'>\n",
      "RangeIndex: 27840 entries, 0 to 27839\n",
      "Data columns (total 8 columns):\n",
      " #   Column              Non-Null Count  Dtype  \n",
      "---  ------              --------------  -----  \n",
      " 0   country             27840 non-null  object \n",
      " 1   year                27840 non-null  int64  \n",
      " 2   sex                 27840 non-null  object \n",
      " 3   age                 27840 non-null  object \n",
      " 4   suicides_no         23575 non-null  object \n",
      " 5   population          27840 non-null  int64  \n",
      " 6   HDI for year        8368 non-null   float64\n",
      " 7    gdp_for_year ($)   27840 non-null  object \n",
      "dtypes: float64(1), int64(2), object(5)\n",
      "memory usage: 1.7+ MB\n"
     ]
    }
   ],
   "source": [
    "df.info()\n",
    "# To see if the non-null values of the columns are different.\n",
    "# The number of suicides column is an important feature for our analysis, so, we don't want to have null-values in that column.\n",
    "# The type of some columns (suicide_no, gdp_for_year ($)) may need handling as we would expect integers or floats, instead of objects."
   ]
  },
  {
   "cell_type": "code",
   "execution_count": 6,
   "outputs": [
    {
     "data": {
      "text/plain": "(27840, 8)"
     },
     "execution_count": 6,
     "metadata": {},
     "output_type": "execute_result"
    }
   ],
   "source": [
    "df.shape"
   ],
   "metadata": {
    "collapsed": false,
    "ExecuteTime": {
     "end_time": "2023-12-11T20:18:42.807820200Z",
     "start_time": "2023-12-11T20:18:42.680152600Z"
    }
   }
  },
  {
   "cell_type": "markdown",
   "metadata": {
    "collapsed": false
   },
   "source": [
    "a. List of countries"
   ]
  },
  {
   "cell_type": "code",
   "execution_count": 7,
   "metadata": {
    "colab": {
     "base_uri": "https://localhost:8080/"
    },
    "id": "xXafLgmLJKO-",
    "outputId": "3cd9d03a-a675-4265-9c67-855ae569b410",
    "ExecuteTime": {
     "end_time": "2023-12-11T20:18:42.935836400Z",
     "start_time": "2023-12-11T20:18:42.689089700Z"
    }
   },
   "outputs": [
    {
     "name": "stdout",
     "output_type": "stream",
     "text": [
      "List of countries in the dataset:\n",
      "['Albania' 'Antigua and Barbuda' 'Argentina' 'Armenia' 'Aruba' 'Australia'\n",
      " 'Austria' 'Azerbaijan' 'Bahamas' 'Bahrain' 'Barbados' 'Belarus' 'Belgium'\n",
      " 'Belize' 'Bosnia and Herzegovina' 'Brazil' 'Bulgaria' 'Cabo Verde'\n",
      " 'Canada' 'Chile' 'Colombia' 'Costa Rica' 'Croatia' 'Cuba' 'Cyprus'\n",
      " 'Czech Republic' 'Denmark' 'Dominica' 'Ecuador' 'El Salvador' 'Estonia'\n",
      " 'Fiji' 'Finland' 'France' 'Georgia' 'Germany' 'Greece' 'Grenada'\n",
      " 'Guatemala' 'Guyana' 'Hungary' 'Iceland' 'Ireland' 'Israel' 'Italy'\n",
      " 'Jamaica' 'Japan' 'Kazakhstan' 'Kiribati' 'Kuwait' 'Kyrgyzstan' 'Latvia'\n",
      " 'Lithuania' 'Luxembourg' 'Macau' 'Maldives' 'Malta' 'Mauritius' 'Mexico'\n",
      " 'Mongolia' 'Montenegro' 'Netherlands' 'New Zealand' 'Nicaragua' 'Norway'\n",
      " 'Oman' 'Panama' 'Paraguay' 'Philippines' 'Poland' 'Portugal'\n",
      " 'Puerto Rico' 'Qatar' 'Republic of Korea' 'Romania' 'Russian Federation'\n",
      " 'Saint Kitts and Nevis' 'Saint Lucia' 'Saint Vincent and Grenadines'\n",
      " 'San Marino' 'Serbia' 'Seychelles' 'Singapore' 'Slovakia' 'Slovenia'\n",
      " 'South Africa' 'Spain' 'Sri Lanka' 'Suriname' 'Sweden' 'Switzerland'\n",
      " 'Thailand' 'Trinidad and Tobago' 'Turkey' 'Turkmenistan' 'Ukraine'\n",
      " 'United Arab Emirates' 'United Kingdom' 'United States' 'Uruguay'\n",
      " 'Uzbekistan']\n",
      "Number of countries: 101\n"
     ]
    }
   ],
   "source": [
    "print(\"List of countries in the dataset:\")\n",
    "print(df[\"country\"].unique())\n",
    "print(\"Number of countries:\", len(df[\"country\"].unique()))"
   ]
  },
  {
   "cell_type": "markdown",
   "metadata": {
    "collapsed": false
   },
   "source": [
    "c. Data Cleaning"
   ]
  },
  {
   "cell_type": "code",
   "execution_count": 8,
   "metadata": {
    "collapsed": false,
    "ExecuteTime": {
     "end_time": "2023-12-11T20:18:42.935836400Z",
     "start_time": "2023-12-11T20:18:42.697232900Z"
    }
   },
   "outputs": [
    {
     "data": {
      "text/plain": "20"
     },
     "execution_count": 8,
     "metadata": {},
     "output_type": "execute_result"
    }
   ],
   "source": [
    "df.duplicated().sum()"
   ]
  },
  {
   "cell_type": "code",
   "execution_count": 9,
   "metadata": {
    "collapsed": false,
    "ExecuteTime": {
     "end_time": "2023-12-11T20:18:42.935836400Z",
     "start_time": "2023-12-11T20:18:42.722311100Z"
    }
   },
   "outputs": [],
   "source": [
    "df.drop_duplicates(keep='first', inplace= True)"
   ]
  },
  {
   "cell_type": "code",
   "execution_count": 10,
   "metadata": {
    "colab": {
     "base_uri": "https://localhost:8080/",
     "height": 424
    },
    "id": "b5-wkcqgUb54",
    "outputId": "9b1d50b9-283a-4f5d-de02-3b5b1ff5e26b",
    "ExecuteTime": {
     "end_time": "2023-12-11T20:18:43.093743800Z",
     "start_time": "2023-12-11T20:18:42.739547900Z"
    }
   },
   "outputs": [
    {
     "data": {
      "text/plain": "          country  year     sex          age suicides_no  population  \\\n0         Albania  1987    male  15-24 years          21      312900   \n1         Albania  1987    male  35-54 years          16      308000   \n2         Albania  1987  female  15-24 years          14      289700   \n3         Albania  1987    male    75+ years           1       21800   \n4         Albania  1987    male  25-34 years           9      274300   \n...           ...   ...     ...          ...         ...         ...   \n27815  Uzbekistan  2014  female  35-54 years          17     3620833   \n27816  Uzbekistan  2014  female    75+ years           9      348465   \n27817  Uzbekistan  2014    male   5-14 years           6     2762158   \n27818  Uzbekistan  2014  female   5-14 years          44     2631600   \n27819  Uzbekistan  2014  female  55-74 years          21     1438935   \n\n       HDI for year  gdp_for_year ($)   \n0               NaN      2,156,624,900  \n1               NaN      2,156,624,900  \n2               NaN      2,156,624,900  \n3               NaN      2,156,624,900  \n4               NaN      2,156,624,900  \n...             ...                ...  \n27815         0.675     63,067,077,179  \n27816         0.675     63,067,077,179  \n27817         0.675     63,067,077,179  \n27818         0.675     63,067,077,179  \n27819         0.675     63,067,077,179  \n\n[27820 rows x 8 columns]",
      "text/html": "<div>\n<style scoped>\n    .dataframe tbody tr th:only-of-type {\n        vertical-align: middle;\n    }\n\n    .dataframe tbody tr th {\n        vertical-align: top;\n    }\n\n    .dataframe thead th {\n        text-align: right;\n    }\n</style>\n<table border=\"1\" class=\"dataframe\">\n  <thead>\n    <tr style=\"text-align: right;\">\n      <th></th>\n      <th>country</th>\n      <th>year</th>\n      <th>sex</th>\n      <th>age</th>\n      <th>suicides_no</th>\n      <th>population</th>\n      <th>HDI for year</th>\n      <th>gdp_for_year ($)</th>\n    </tr>\n  </thead>\n  <tbody>\n    <tr>\n      <th>0</th>\n      <td>Albania</td>\n      <td>1987</td>\n      <td>male</td>\n      <td>15-24 years</td>\n      <td>21</td>\n      <td>312900</td>\n      <td>NaN</td>\n      <td>2,156,624,900</td>\n    </tr>\n    <tr>\n      <th>1</th>\n      <td>Albania</td>\n      <td>1987</td>\n      <td>male</td>\n      <td>35-54 years</td>\n      <td>16</td>\n      <td>308000</td>\n      <td>NaN</td>\n      <td>2,156,624,900</td>\n    </tr>\n    <tr>\n      <th>2</th>\n      <td>Albania</td>\n      <td>1987</td>\n      <td>female</td>\n      <td>15-24 years</td>\n      <td>14</td>\n      <td>289700</td>\n      <td>NaN</td>\n      <td>2,156,624,900</td>\n    </tr>\n    <tr>\n      <th>3</th>\n      <td>Albania</td>\n      <td>1987</td>\n      <td>male</td>\n      <td>75+ years</td>\n      <td>1</td>\n      <td>21800</td>\n      <td>NaN</td>\n      <td>2,156,624,900</td>\n    </tr>\n    <tr>\n      <th>4</th>\n      <td>Albania</td>\n      <td>1987</td>\n      <td>male</td>\n      <td>25-34 years</td>\n      <td>9</td>\n      <td>274300</td>\n      <td>NaN</td>\n      <td>2,156,624,900</td>\n    </tr>\n    <tr>\n      <th>...</th>\n      <td>...</td>\n      <td>...</td>\n      <td>...</td>\n      <td>...</td>\n      <td>...</td>\n      <td>...</td>\n      <td>...</td>\n      <td>...</td>\n    </tr>\n    <tr>\n      <th>27815</th>\n      <td>Uzbekistan</td>\n      <td>2014</td>\n      <td>female</td>\n      <td>35-54 years</td>\n      <td>17</td>\n      <td>3620833</td>\n      <td>0.675</td>\n      <td>63,067,077,179</td>\n    </tr>\n    <tr>\n      <th>27816</th>\n      <td>Uzbekistan</td>\n      <td>2014</td>\n      <td>female</td>\n      <td>75+ years</td>\n      <td>9</td>\n      <td>348465</td>\n      <td>0.675</td>\n      <td>63,067,077,179</td>\n    </tr>\n    <tr>\n      <th>27817</th>\n      <td>Uzbekistan</td>\n      <td>2014</td>\n      <td>male</td>\n      <td>5-14 years</td>\n      <td>6</td>\n      <td>2762158</td>\n      <td>0.675</td>\n      <td>63,067,077,179</td>\n    </tr>\n    <tr>\n      <th>27818</th>\n      <td>Uzbekistan</td>\n      <td>2014</td>\n      <td>female</td>\n      <td>5-14 years</td>\n      <td>44</td>\n      <td>2631600</td>\n      <td>0.675</td>\n      <td>63,067,077,179</td>\n    </tr>\n    <tr>\n      <th>27819</th>\n      <td>Uzbekistan</td>\n      <td>2014</td>\n      <td>female</td>\n      <td>55-74 years</td>\n      <td>21</td>\n      <td>1438935</td>\n      <td>0.675</td>\n      <td>63,067,077,179</td>\n    </tr>\n  </tbody>\n</table>\n<p>27820 rows × 8 columns</p>\n</div>"
     },
     "execution_count": 10,
     "metadata": {},
     "output_type": "execute_result"
    }
   ],
   "source": [
    "df.sort_values(by=['country','year'])"
   ]
  },
  {
   "cell_type": "code",
   "execution_count": 11,
   "metadata": {
    "colab": {
     "base_uri": "https://localhost:8080/",
     "height": 424
    },
    "id": "w_7LOORmPMDA",
    "outputId": "8675ad5a-9929-49d9-8864-b0921a11fb14",
    "ExecuteTime": {
     "end_time": "2023-12-11T20:18:43.093743800Z",
     "start_time": "2023-12-11T20:18:42.779812400Z"
    }
   },
   "outputs": [
    {
     "name": "stdout",
     "output_type": "stream",
     "text": [
      "<class 'pandas.core.frame.DataFrame'>\n",
      "Index: 27820 entries, 0 to 27819\n",
      "Data columns (total 8 columns):\n",
      " #   Column              Non-Null Count  Dtype  \n",
      "---  ------              --------------  -----  \n",
      " 0   country             27820 non-null  object \n",
      " 1   year                27820 non-null  int64  \n",
      " 2   sex                 27820 non-null  object \n",
      " 3   age                 27820 non-null  object \n",
      " 4   suicides_no         23559 non-null  object \n",
      " 5   population          27820 non-null  int64  \n",
      " 6   HDI for year        8364 non-null   float64\n",
      " 7    gdp_for_year ($)   27820 non-null  object \n",
      "dtypes: float64(1), int64(2), object(5)\n",
      "memory usage: 1.9+ MB\n"
     ]
    }
   ],
   "source": [
    "df.info()"
   ]
  },
  {
   "cell_type": "code",
   "execution_count": 12,
   "metadata": {
    "id": "dM2eSYt9aWQ4",
    "ExecuteTime": {
     "end_time": "2023-12-11T20:18:43.139430800Z",
     "start_time": "2023-12-11T20:18:42.779812400Z"
    }
   },
   "outputs": [],
   "source": [
    "# To change the type of object of the suicide_no column to number\n",
    "df[\"suicides_no\"] = pd.to_numeric(df[\"suicides_no\"], errors='coerce')"
   ]
  },
  {
   "cell_type": "code",
   "execution_count": 13,
   "metadata": {
    "colab": {
     "base_uri": "https://localhost:8080/"
    },
    "id": "_Hfo_k8ZbI9D",
    "outputId": "39549149-b260-45b6-d315-0f893d7cd453",
    "ExecuteTime": {
     "end_time": "2023-12-11T20:18:43.139430800Z",
     "start_time": "2023-12-11T20:18:42.807820200Z"
    }
   },
   "outputs": [
    {
     "data": {
      "text/plain": "4281"
     },
     "execution_count": 13,
     "metadata": {},
     "output_type": "execute_result"
    }
   ],
   "source": [
    "df[\"suicides_no\"].isnull().sum()"
   ]
  },
  {
   "cell_type": "code",
   "execution_count": 14,
   "metadata": {
    "colab": {
     "base_uri": "https://localhost:8080/"
    },
    "id": "KFvCGBrA64p5",
    "outputId": "1e21138b-cd0d-474f-af33-889d56c1419e",
    "ExecuteTime": {
     "end_time": "2023-12-11T20:18:43.139430800Z",
     "start_time": "2023-12-11T20:18:42.812319200Z"
    }
   },
   "outputs": [],
   "source": [
    "df2 = df.dropna(subset=['suicides_no'])"
   ]
  },
  {
   "cell_type": "code",
   "execution_count": 15,
   "metadata": {
    "colab": {
     "base_uri": "https://localhost:8080/",
     "height": 194
    },
    "id": "YSVg2GS68KPP",
    "outputId": "1b9bd263-905e-45bf-e89a-62e4a0faae44",
    "ExecuteTime": {
     "end_time": "2023-12-11T20:18:43.139430800Z",
     "start_time": "2023-12-11T20:18:42.823558Z"
    }
   },
   "outputs": [
    {
     "name": "stdout",
     "output_type": "stream",
     "text": [
      "<class 'pandas.core.frame.DataFrame'>\n",
      "Index: 23539 entries, 0 to 27819\n",
      "Data columns (total 8 columns):\n",
      " #   Column              Non-Null Count  Dtype  \n",
      "---  ------              --------------  -----  \n",
      " 0   country             23539 non-null  object \n",
      " 1   year                23539 non-null  int64  \n",
      " 2   sex                 23539 non-null  object \n",
      " 3   age                 23539 non-null  object \n",
      " 4   suicides_no         23539 non-null  float64\n",
      " 5   population          23539 non-null  int64  \n",
      " 6   HDI for year        7207 non-null   float64\n",
      " 7    gdp_for_year ($)   23539 non-null  object \n",
      "dtypes: float64(2), int64(2), object(4)\n",
      "memory usage: 1.6+ MB\n"
     ]
    }
   ],
   "source": [
    "df2.info()"
   ]
  },
  {
   "cell_type": "code",
   "execution_count": 16,
   "metadata": {
    "collapsed": false,
    "ExecuteTime": {
     "end_time": "2023-12-11T20:18:43.139430800Z",
     "start_time": "2023-12-11T20:18:42.839579600Z"
    }
   },
   "outputs": [
    {
     "data": {
      "text/plain": "0"
     },
     "execution_count": 16,
     "metadata": {},
     "output_type": "execute_result"
    }
   ],
   "source": [
    "df2[\"suicides_no\"].isnull().sum()"
   ]
  },
  {
   "cell_type": "markdown",
   "metadata": {
    "collapsed": false
   },
   "source": [
    "d. Creating new column \"suicides/100k\")"
   ]
  },
  {
   "cell_type": "code",
   "execution_count": 17,
   "metadata": {
    "colab": {
     "base_uri": "https://localhost:8080/",
     "height": 304
    },
    "id": "GfNU8Qqrbc1x",
    "outputId": "8ba8927a-6573-4e7c-cab3-1d901cc59f35",
    "ExecuteTime": {
     "end_time": "2023-12-11T20:18:43.202682300Z",
     "start_time": "2023-12-11T20:18:42.843287100Z"
    }
   },
   "outputs": [
    {
     "name": "stderr",
     "output_type": "stream",
     "text": [
      "C:\\Users\\Ana Cuba\\AppData\\Local\\Temp\\ipykernel_8688\\3956234911.py:5: SettingWithCopyWarning: \n",
      "A value is trying to be set on a copy of a slice from a DataFrame.\n",
      "Try using .loc[row_indexer,col_indexer] = value instead\n",
      "\n",
      "See the caveats in the documentation: https://pandas.pydata.org/pandas-docs/stable/user_guide/indexing.html#returning-a-view-versus-a-copy\n",
      "  df2.loc[:, \"suicides/100k\"] = s/(p/100000)\n"
     ]
    },
    {
     "data": {
      "text/plain": "   country  year     sex          age  suicides_no  population  HDI for year  \\\n0  Albania  1987    male  15-24 years         21.0      312900           NaN   \n1  Albania  1987    male  35-54 years         16.0      308000           NaN   \n2  Albania  1987  female  15-24 years         14.0      289700           NaN   \n3  Albania  1987    male    75+ years          1.0       21800           NaN   \n4  Albania  1987    male  25-34 years          9.0      274300           NaN   \n\n   gdp_for_year ($)   suicides/100k  \n0      2,156,624,900       6.711409  \n1      2,156,624,900       5.194805  \n2      2,156,624,900       4.832585  \n3      2,156,624,900       4.587156  \n4      2,156,624,900       3.281079  ",
      "text/html": "<div>\n<style scoped>\n    .dataframe tbody tr th:only-of-type {\n        vertical-align: middle;\n    }\n\n    .dataframe tbody tr th {\n        vertical-align: top;\n    }\n\n    .dataframe thead th {\n        text-align: right;\n    }\n</style>\n<table border=\"1\" class=\"dataframe\">\n  <thead>\n    <tr style=\"text-align: right;\">\n      <th></th>\n      <th>country</th>\n      <th>year</th>\n      <th>sex</th>\n      <th>age</th>\n      <th>suicides_no</th>\n      <th>population</th>\n      <th>HDI for year</th>\n      <th>gdp_for_year ($)</th>\n      <th>suicides/100k</th>\n    </tr>\n  </thead>\n  <tbody>\n    <tr>\n      <th>0</th>\n      <td>Albania</td>\n      <td>1987</td>\n      <td>male</td>\n      <td>15-24 years</td>\n      <td>21.0</td>\n      <td>312900</td>\n      <td>NaN</td>\n      <td>2,156,624,900</td>\n      <td>6.711409</td>\n    </tr>\n    <tr>\n      <th>1</th>\n      <td>Albania</td>\n      <td>1987</td>\n      <td>male</td>\n      <td>35-54 years</td>\n      <td>16.0</td>\n      <td>308000</td>\n      <td>NaN</td>\n      <td>2,156,624,900</td>\n      <td>5.194805</td>\n    </tr>\n    <tr>\n      <th>2</th>\n      <td>Albania</td>\n      <td>1987</td>\n      <td>female</td>\n      <td>15-24 years</td>\n      <td>14.0</td>\n      <td>289700</td>\n      <td>NaN</td>\n      <td>2,156,624,900</td>\n      <td>4.832585</td>\n    </tr>\n    <tr>\n      <th>3</th>\n      <td>Albania</td>\n      <td>1987</td>\n      <td>male</td>\n      <td>75+ years</td>\n      <td>1.0</td>\n      <td>21800</td>\n      <td>NaN</td>\n      <td>2,156,624,900</td>\n      <td>4.587156</td>\n    </tr>\n    <tr>\n      <th>4</th>\n      <td>Albania</td>\n      <td>1987</td>\n      <td>male</td>\n      <td>25-34 years</td>\n      <td>9.0</td>\n      <td>274300</td>\n      <td>NaN</td>\n      <td>2,156,624,900</td>\n      <td>3.281079</td>\n    </tr>\n  </tbody>\n</table>\n</div>"
     },
     "execution_count": 17,
     "metadata": {},
     "output_type": "execute_result"
    }
   ],
   "source": [
    "# First, I created a variable for the values in the column of the number of suicides and another for the values in the column population.\n",
    "s = df2[\"suicides_no\"]\n",
    "p = df2[\"population\"]\n",
    "# then, I created the new column with loc. I assigned it the value of the operation:\n",
    "df2.loc[:, \"suicides/100k\"] = s/(p/100000)\n",
    "df2.head(5)"
   ]
  },
  {
   "cell_type": "markdown",
   "metadata": {
    "collapsed": false
   },
   "source": [
    "e. New column \"Generation\""
   ]
  },
  {
   "cell_type": "code",
   "execution_count": 18,
   "metadata": {
    "collapsed": false,
    "ExecuteTime": {
     "end_time": "2023-12-11T20:18:43.202682300Z",
     "start_time": "2023-12-11T20:18:42.858546Z"
    }
   },
   "outputs": [
    {
     "data": {
      "text/plain": "array(['15-24 years', '35-54 years', '75+ years', '25-34 years',\n       '55-74 years', '5-14 years'], dtype=object)"
     },
     "execution_count": 18,
     "metadata": {},
     "output_type": "execute_result"
    }
   ],
   "source": [
    "df2['age'].unique()"
   ]
  },
  {
   "cell_type": "code",
   "execution_count": 19,
   "metadata": {
    "collapsed": false,
    "ExecuteTime": {
     "end_time": "2023-12-11T20:18:43.218325400Z",
     "start_time": "2023-12-11T20:18:42.886889400Z"
    }
   },
   "outputs": [
    {
     "name": "stderr",
     "output_type": "stream",
     "text": [
      "C:\\Users\\Ana Cuba\\AppData\\Local\\Temp\\ipykernel_8688\\3324823869.py:5: SettingWithCopyWarning: \n",
      "A value is trying to be set on a copy of a slice from a DataFrame.\n",
      "Try using .loc[row_indexer,col_indexer] = value instead\n",
      "\n",
      "See the caveats in the documentation: https://pandas.pydata.org/pandas-docs/stable/user_guide/indexing.html#returning-a-view-versus-a-copy\n",
      "  df2.loc[: , \"new_year\"] = df2[\"year\"] - new_age\n"
     ]
    },
    {
     "data": {
      "text/plain": "   country  year     sex          age  suicides_no  population  HDI for year  \\\n0  Albania  1987    male  15-24 years         21.0      312900           NaN   \n1  Albania  1987    male  35-54 years         16.0      308000           NaN   \n2  Albania  1987  female  15-24 years         14.0      289700           NaN   \n3  Albania  1987    male    75+ years          1.0       21800           NaN   \n4  Albania  1987    male  25-34 years          9.0      274300           NaN   \n5  Albania  1987  female    75+ years          1.0       35600           NaN   \n\n   gdp_for_year ($)   suicides/100k  new_year  \n0      2,156,624,900       6.711409      1972  \n1      2,156,624,900       5.194805      1952  \n2      2,156,624,900       4.832585      1972  \n3      2,156,624,900       4.587156      1912  \n4      2,156,624,900       3.281079      1962  \n5      2,156,624,900       2.808989      1912  ",
      "text/html": "<div>\n<style scoped>\n    .dataframe tbody tr th:only-of-type {\n        vertical-align: middle;\n    }\n\n    .dataframe tbody tr th {\n        vertical-align: top;\n    }\n\n    .dataframe thead th {\n        text-align: right;\n    }\n</style>\n<table border=\"1\" class=\"dataframe\">\n  <thead>\n    <tr style=\"text-align: right;\">\n      <th></th>\n      <th>country</th>\n      <th>year</th>\n      <th>sex</th>\n      <th>age</th>\n      <th>suicides_no</th>\n      <th>population</th>\n      <th>HDI for year</th>\n      <th>gdp_for_year ($)</th>\n      <th>suicides/100k</th>\n      <th>new_year</th>\n    </tr>\n  </thead>\n  <tbody>\n    <tr>\n      <th>0</th>\n      <td>Albania</td>\n      <td>1987</td>\n      <td>male</td>\n      <td>15-24 years</td>\n      <td>21.0</td>\n      <td>312900</td>\n      <td>NaN</td>\n      <td>2,156,624,900</td>\n      <td>6.711409</td>\n      <td>1972</td>\n    </tr>\n    <tr>\n      <th>1</th>\n      <td>Albania</td>\n      <td>1987</td>\n      <td>male</td>\n      <td>35-54 years</td>\n      <td>16.0</td>\n      <td>308000</td>\n      <td>NaN</td>\n      <td>2,156,624,900</td>\n      <td>5.194805</td>\n      <td>1952</td>\n    </tr>\n    <tr>\n      <th>2</th>\n      <td>Albania</td>\n      <td>1987</td>\n      <td>female</td>\n      <td>15-24 years</td>\n      <td>14.0</td>\n      <td>289700</td>\n      <td>NaN</td>\n      <td>2,156,624,900</td>\n      <td>4.832585</td>\n      <td>1972</td>\n    </tr>\n    <tr>\n      <th>3</th>\n      <td>Albania</td>\n      <td>1987</td>\n      <td>male</td>\n      <td>75+ years</td>\n      <td>1.0</td>\n      <td>21800</td>\n      <td>NaN</td>\n      <td>2,156,624,900</td>\n      <td>4.587156</td>\n      <td>1912</td>\n    </tr>\n    <tr>\n      <th>4</th>\n      <td>Albania</td>\n      <td>1987</td>\n      <td>male</td>\n      <td>25-34 years</td>\n      <td>9.0</td>\n      <td>274300</td>\n      <td>NaN</td>\n      <td>2,156,624,900</td>\n      <td>3.281079</td>\n      <td>1962</td>\n    </tr>\n    <tr>\n      <th>5</th>\n      <td>Albania</td>\n      <td>1987</td>\n      <td>female</td>\n      <td>75+ years</td>\n      <td>1.0</td>\n      <td>35600</td>\n      <td>NaN</td>\n      <td>2,156,624,900</td>\n      <td>2.808989</td>\n      <td>1912</td>\n    </tr>\n  </tbody>\n</table>\n</div>"
     },
     "execution_count": 19,
     "metadata": {},
     "output_type": "execute_result"
    }
   ],
   "source": [
    "# To get the new year of each group:\n",
    "# First replace + with -, then split by - and capture the first value as an integer\n",
    "new_age = df2['age'].apply(lambda x: int(x.replace('+', '-').split('-')[0]))\n",
    "# new column with the new year to work out the generation\n",
    "df2.loc[: , \"new_year\"] = df2[\"year\"] - new_age\n",
    "df2.head(6)"
   ]
  },
  {
   "cell_type": "code",
   "execution_count": 20,
   "metadata": {
    "collapsed": false,
    "ExecuteTime": {
     "end_time": "2023-12-11T20:18:43.218325400Z",
     "start_time": "2023-12-11T20:18:42.910118400Z"
    }
   },
   "outputs": [
    {
     "name": "stdout",
     "output_type": "stream",
     "text": [
      "1910\n",
      "2010\n"
     ]
    }
   ],
   "source": [
    "print(df2[\"new_year\"].min())\n",
    "print(df2[\"new_year\"].max())\n",
    "# to see if the range of the column will work"
   ]
  },
  {
   "cell_type": "code",
   "execution_count": 21,
   "metadata": {
    "collapsed": false,
    "ExecuteTime": {
     "end_time": "2023-12-11T20:18:43.218325400Z",
     "start_time": "2023-12-11T20:18:42.918289600Z"
    }
   },
   "outputs": [
    {
     "name": "stderr",
     "output_type": "stream",
     "text": [
      "C:\\Users\\Ana Cuba\\AppData\\Local\\Temp\\ipykernel_8688\\4288037292.py:21: SettingWithCopyWarning: \n",
      "A value is trying to be set on a copy of a slice from a DataFrame.\n",
      "Try using .loc[row_indexer,col_indexer] = value instead\n",
      "\n",
      "See the caveats in the documentation: https://pandas.pydata.org/pandas-docs/stable/user_guide/indexing.html#returning-a-view-versus-a-copy\n",
      "  df2.loc[:,\"Generation\"] = df2[\"new_year\"].apply(generation)\n"
     ]
    },
    {
     "data": {
      "text/plain": "    country  year     sex          age  suicides_no  population  HDI for year  \\\n0   Albania  1987    male  15-24 years         21.0      312900           NaN   \n1   Albania  1987    male  35-54 years         16.0      308000           NaN   \n2   Albania  1987  female  15-24 years         14.0      289700           NaN   \n3   Albania  1987    male    75+ years          1.0       21800           NaN   \n4   Albania  1987    male  25-34 years          9.0      274300           NaN   \n5   Albania  1987  female    75+ years          1.0       35600           NaN   \n6   Albania  1987  female  35-54 years          6.0      278800           NaN   \n7   Albania  1987  female  25-34 years          4.0      257200           NaN   \n8   Albania  1987    male  55-74 years          1.0      137500           NaN   \n12  Albania  1988  female    75+ years          2.0       36400           NaN   \n\n    gdp_for_year ($)   suicides/100k  new_year       Generation  \n0       2,156,624,900       6.711409      1972     Generation X  \n1       2,156,624,900       5.194805      1952          Boomers  \n2       2,156,624,900       4.832585      1972     Generation X  \n3       2,156,624,900       4.587156      1912  G.I. Generation  \n4       2,156,624,900       3.281079      1962          Boomers  \n5       2,156,624,900       2.808989      1912  G.I. Generation  \n6       2,156,624,900       2.152080      1952          Boomers  \n7       2,156,624,900       1.555210      1962          Boomers  \n8       2,156,624,900       0.727273      1932           Silent  \n12      2,126,000,000       5.494505      1913  G.I. Generation  ",
      "text/html": "<div>\n<style scoped>\n    .dataframe tbody tr th:only-of-type {\n        vertical-align: middle;\n    }\n\n    .dataframe tbody tr th {\n        vertical-align: top;\n    }\n\n    .dataframe thead th {\n        text-align: right;\n    }\n</style>\n<table border=\"1\" class=\"dataframe\">\n  <thead>\n    <tr style=\"text-align: right;\">\n      <th></th>\n      <th>country</th>\n      <th>year</th>\n      <th>sex</th>\n      <th>age</th>\n      <th>suicides_no</th>\n      <th>population</th>\n      <th>HDI for year</th>\n      <th>gdp_for_year ($)</th>\n      <th>suicides/100k</th>\n      <th>new_year</th>\n      <th>Generation</th>\n    </tr>\n  </thead>\n  <tbody>\n    <tr>\n      <th>0</th>\n      <td>Albania</td>\n      <td>1987</td>\n      <td>male</td>\n      <td>15-24 years</td>\n      <td>21.0</td>\n      <td>312900</td>\n      <td>NaN</td>\n      <td>2,156,624,900</td>\n      <td>6.711409</td>\n      <td>1972</td>\n      <td>Generation X</td>\n    </tr>\n    <tr>\n      <th>1</th>\n      <td>Albania</td>\n      <td>1987</td>\n      <td>male</td>\n      <td>35-54 years</td>\n      <td>16.0</td>\n      <td>308000</td>\n      <td>NaN</td>\n      <td>2,156,624,900</td>\n      <td>5.194805</td>\n      <td>1952</td>\n      <td>Boomers</td>\n    </tr>\n    <tr>\n      <th>2</th>\n      <td>Albania</td>\n      <td>1987</td>\n      <td>female</td>\n      <td>15-24 years</td>\n      <td>14.0</td>\n      <td>289700</td>\n      <td>NaN</td>\n      <td>2,156,624,900</td>\n      <td>4.832585</td>\n      <td>1972</td>\n      <td>Generation X</td>\n    </tr>\n    <tr>\n      <th>3</th>\n      <td>Albania</td>\n      <td>1987</td>\n      <td>male</td>\n      <td>75+ years</td>\n      <td>1.0</td>\n      <td>21800</td>\n      <td>NaN</td>\n      <td>2,156,624,900</td>\n      <td>4.587156</td>\n      <td>1912</td>\n      <td>G.I. Generation</td>\n    </tr>\n    <tr>\n      <th>4</th>\n      <td>Albania</td>\n      <td>1987</td>\n      <td>male</td>\n      <td>25-34 years</td>\n      <td>9.0</td>\n      <td>274300</td>\n      <td>NaN</td>\n      <td>2,156,624,900</td>\n      <td>3.281079</td>\n      <td>1962</td>\n      <td>Boomers</td>\n    </tr>\n    <tr>\n      <th>5</th>\n      <td>Albania</td>\n      <td>1987</td>\n      <td>female</td>\n      <td>75+ years</td>\n      <td>1.0</td>\n      <td>35600</td>\n      <td>NaN</td>\n      <td>2,156,624,900</td>\n      <td>2.808989</td>\n      <td>1912</td>\n      <td>G.I. Generation</td>\n    </tr>\n    <tr>\n      <th>6</th>\n      <td>Albania</td>\n      <td>1987</td>\n      <td>female</td>\n      <td>35-54 years</td>\n      <td>6.0</td>\n      <td>278800</td>\n      <td>NaN</td>\n      <td>2,156,624,900</td>\n      <td>2.152080</td>\n      <td>1952</td>\n      <td>Boomers</td>\n    </tr>\n    <tr>\n      <th>7</th>\n      <td>Albania</td>\n      <td>1987</td>\n      <td>female</td>\n      <td>25-34 years</td>\n      <td>4.0</td>\n      <td>257200</td>\n      <td>NaN</td>\n      <td>2,156,624,900</td>\n      <td>1.555210</td>\n      <td>1962</td>\n      <td>Boomers</td>\n    </tr>\n    <tr>\n      <th>8</th>\n      <td>Albania</td>\n      <td>1987</td>\n      <td>male</td>\n      <td>55-74 years</td>\n      <td>1.0</td>\n      <td>137500</td>\n      <td>NaN</td>\n      <td>2,156,624,900</td>\n      <td>0.727273</td>\n      <td>1932</td>\n      <td>Silent</td>\n    </tr>\n    <tr>\n      <th>12</th>\n      <td>Albania</td>\n      <td>1988</td>\n      <td>female</td>\n      <td>75+ years</td>\n      <td>2.0</td>\n      <td>36400</td>\n      <td>NaN</td>\n      <td>2,126,000,000</td>\n      <td>5.494505</td>\n      <td>1913</td>\n      <td>G.I. Generation</td>\n    </tr>\n  </tbody>\n</table>\n</div>"
     },
     "execution_count": 21,
     "metadata": {},
     "output_type": "execute_result"
    }
   ],
   "source": [
    "def generation(x):\n",
    "    \"\"\"Function to find the generation\"\"\"\n",
    "    if 1883 <= x <= 1900:\n",
    "        return \"Lost Generation\"\n",
    "    elif 1901 <= x <= 1927:\n",
    "        return \"G.I. Generation\"\n",
    "    elif 1928 <= x <= 1945:\n",
    "        return \"Silent\"\n",
    "    elif 1946 <= x <= 1964:\n",
    "        return \"Boomers\"\n",
    "    elif 1965 <= x <= 1980:\n",
    "        return \"Generation X\"\n",
    "    elif 1981 <= x <= 1995:\n",
    "        return \"Millennials\"\n",
    "    elif 1996 <= x <= 2010:\n",
    "        return \"Generation Z\"\n",
    "    elif 2011 <= x <= 2025:\n",
    "        return \"Generation A\"\n",
    "\n",
    "\n",
    "df2.loc[:,\"Generation\"] = df2[\"new_year\"].apply(generation)\n",
    "\n",
    "df2.head(10)"
   ]
  },
  {
   "cell_type": "markdown",
   "metadata": {
    "collapsed": false
   },
   "source": [
    "f. New column \"GDP_per_capita\""
   ]
  },
  {
   "cell_type": "code",
   "execution_count": 22,
   "metadata": {
    "collapsed": false,
    "ExecuteTime": {
     "end_time": "2023-12-11T20:18:43.218325400Z",
     "start_time": "2023-12-11T20:18:42.935836400Z"
    }
   },
   "outputs": [
    {
     "name": "stderr",
     "output_type": "stream",
     "text": [
      "C:\\Users\\Ana Cuba\\AppData\\Local\\Temp\\ipykernel_8688\\1334886523.py:3: SettingWithCopyWarning: \n",
      "A value is trying to be set on a copy of a slice from a DataFrame.\n",
      "Try using .loc[row_indexer,col_indexer] = value instead\n",
      "\n",
      "See the caveats in the documentation: https://pandas.pydata.org/pandas-docs/stable/user_guide/indexing.html#returning-a-view-versus-a-copy\n",
      "  df2.loc[:, \"total_pop\"] = df.groupby([\"country\", \"year\"])[\"population\"].transform('sum')\n"
     ]
    },
    {
     "data": {
      "text/plain": "          country  year     sex          age  suicides_no  population  \\\n0         Albania  1987    male  15-24 years         21.0      312900   \n1         Albania  1987    male  35-54 years         16.0      308000   \n2         Albania  1987  female  15-24 years         14.0      289700   \n3         Albania  1987    male    75+ years          1.0       21800   \n4         Albania  1987    male  25-34 years          9.0      274300   \n...           ...   ...     ...          ...          ...         ...   \n27815  Uzbekistan  2014  female  35-54 years         17.0     3620833   \n27816  Uzbekistan  2014  female    75+ years          9.0      348465   \n27817  Uzbekistan  2014    male   5-14 years          6.0     2762158   \n27818  Uzbekistan  2014  female   5-14 years         44.0     2631600   \n27819  Uzbekistan  2014  female  55-74 years         21.0     1438935   \n\n       HDI for year  gdp_for_year ($)   suicides/100k  new_year  \\\n0               NaN      2,156,624,900       6.711409      1972   \n1               NaN      2,156,624,900       5.194805      1952   \n2               NaN      2,156,624,900       4.832585      1972   \n3               NaN      2,156,624,900       4.587156      1912   \n4               NaN      2,156,624,900       3.281079      1962   \n...             ...                ...            ...       ...   \n27815         0.675     63,067,077,179       0.469505      1979   \n27816         0.675     63,067,077,179       2.582756      1939   \n27817         0.675     63,067,077,179       0.217221      2009   \n27818         0.675     63,067,077,179       1.671987      2009   \n27819         0.675     63,067,077,179       1.459413      1959   \n\n            Generation  total_pop  \n0         Generation X    2709600  \n1              Boomers    2709600  \n2         Generation X    2709600  \n3      G.I. Generation    2709600  \n4              Boomers    2709600  \n...                ...        ...  \n27815     Generation X   27313507  \n27816           Silent   27313507  \n27817     Generation Z   27313507  \n27818     Generation Z   27313507  \n27819          Boomers   27313507  \n\n[23539 rows x 12 columns]",
      "text/html": "<div>\n<style scoped>\n    .dataframe tbody tr th:only-of-type {\n        vertical-align: middle;\n    }\n\n    .dataframe tbody tr th {\n        vertical-align: top;\n    }\n\n    .dataframe thead th {\n        text-align: right;\n    }\n</style>\n<table border=\"1\" class=\"dataframe\">\n  <thead>\n    <tr style=\"text-align: right;\">\n      <th></th>\n      <th>country</th>\n      <th>year</th>\n      <th>sex</th>\n      <th>age</th>\n      <th>suicides_no</th>\n      <th>population</th>\n      <th>HDI for year</th>\n      <th>gdp_for_year ($)</th>\n      <th>suicides/100k</th>\n      <th>new_year</th>\n      <th>Generation</th>\n      <th>total_pop</th>\n    </tr>\n  </thead>\n  <tbody>\n    <tr>\n      <th>0</th>\n      <td>Albania</td>\n      <td>1987</td>\n      <td>male</td>\n      <td>15-24 years</td>\n      <td>21.0</td>\n      <td>312900</td>\n      <td>NaN</td>\n      <td>2,156,624,900</td>\n      <td>6.711409</td>\n      <td>1972</td>\n      <td>Generation X</td>\n      <td>2709600</td>\n    </tr>\n    <tr>\n      <th>1</th>\n      <td>Albania</td>\n      <td>1987</td>\n      <td>male</td>\n      <td>35-54 years</td>\n      <td>16.0</td>\n      <td>308000</td>\n      <td>NaN</td>\n      <td>2,156,624,900</td>\n      <td>5.194805</td>\n      <td>1952</td>\n      <td>Boomers</td>\n      <td>2709600</td>\n    </tr>\n    <tr>\n      <th>2</th>\n      <td>Albania</td>\n      <td>1987</td>\n      <td>female</td>\n      <td>15-24 years</td>\n      <td>14.0</td>\n      <td>289700</td>\n      <td>NaN</td>\n      <td>2,156,624,900</td>\n      <td>4.832585</td>\n      <td>1972</td>\n      <td>Generation X</td>\n      <td>2709600</td>\n    </tr>\n    <tr>\n      <th>3</th>\n      <td>Albania</td>\n      <td>1987</td>\n      <td>male</td>\n      <td>75+ years</td>\n      <td>1.0</td>\n      <td>21800</td>\n      <td>NaN</td>\n      <td>2,156,624,900</td>\n      <td>4.587156</td>\n      <td>1912</td>\n      <td>G.I. Generation</td>\n      <td>2709600</td>\n    </tr>\n    <tr>\n      <th>4</th>\n      <td>Albania</td>\n      <td>1987</td>\n      <td>male</td>\n      <td>25-34 years</td>\n      <td>9.0</td>\n      <td>274300</td>\n      <td>NaN</td>\n      <td>2,156,624,900</td>\n      <td>3.281079</td>\n      <td>1962</td>\n      <td>Boomers</td>\n      <td>2709600</td>\n    </tr>\n    <tr>\n      <th>...</th>\n      <td>...</td>\n      <td>...</td>\n      <td>...</td>\n      <td>...</td>\n      <td>...</td>\n      <td>...</td>\n      <td>...</td>\n      <td>...</td>\n      <td>...</td>\n      <td>...</td>\n      <td>...</td>\n      <td>...</td>\n    </tr>\n    <tr>\n      <th>27815</th>\n      <td>Uzbekistan</td>\n      <td>2014</td>\n      <td>female</td>\n      <td>35-54 years</td>\n      <td>17.0</td>\n      <td>3620833</td>\n      <td>0.675</td>\n      <td>63,067,077,179</td>\n      <td>0.469505</td>\n      <td>1979</td>\n      <td>Generation X</td>\n      <td>27313507</td>\n    </tr>\n    <tr>\n      <th>27816</th>\n      <td>Uzbekistan</td>\n      <td>2014</td>\n      <td>female</td>\n      <td>75+ years</td>\n      <td>9.0</td>\n      <td>348465</td>\n      <td>0.675</td>\n      <td>63,067,077,179</td>\n      <td>2.582756</td>\n      <td>1939</td>\n      <td>Silent</td>\n      <td>27313507</td>\n    </tr>\n    <tr>\n      <th>27817</th>\n      <td>Uzbekistan</td>\n      <td>2014</td>\n      <td>male</td>\n      <td>5-14 years</td>\n      <td>6.0</td>\n      <td>2762158</td>\n      <td>0.675</td>\n      <td>63,067,077,179</td>\n      <td>0.217221</td>\n      <td>2009</td>\n      <td>Generation Z</td>\n      <td>27313507</td>\n    </tr>\n    <tr>\n      <th>27818</th>\n      <td>Uzbekistan</td>\n      <td>2014</td>\n      <td>female</td>\n      <td>5-14 years</td>\n      <td>44.0</td>\n      <td>2631600</td>\n      <td>0.675</td>\n      <td>63,067,077,179</td>\n      <td>1.671987</td>\n      <td>2009</td>\n      <td>Generation Z</td>\n      <td>27313507</td>\n    </tr>\n    <tr>\n      <th>27819</th>\n      <td>Uzbekistan</td>\n      <td>2014</td>\n      <td>female</td>\n      <td>55-74 years</td>\n      <td>21.0</td>\n      <td>1438935</td>\n      <td>0.675</td>\n      <td>63,067,077,179</td>\n      <td>1.459413</td>\n      <td>1959</td>\n      <td>Boomers</td>\n      <td>27313507</td>\n    </tr>\n  </tbody>\n</table>\n<p>23539 rows × 12 columns</p>\n</div>"
     },
     "execution_count": 22,
     "metadata": {},
     "output_type": "execute_result"
    }
   ],
   "source": [
    "# Group by country and year, and sum the population per year, in the first dataframe.\n",
    "# Assign it to a new column in df2\n",
    "df2.loc[:, \"total_pop\"] = df.groupby([\"country\", \"year\"])[\"population\"].transform('sum')\n",
    "df2"
   ]
  },
  {
   "cell_type": "code",
   "execution_count": 23,
   "metadata": {
    "collapsed": false,
    "ExecuteTime": {
     "end_time": "2023-12-11T20:18:43.218325400Z",
     "start_time": "2023-12-11T20:18:42.955899400Z"
    }
   },
   "outputs": [
    {
     "name": "stderr",
     "output_type": "stream",
     "text": [
      "C:\\Users\\Ana Cuba\\AppData\\Local\\Temp\\ipykernel_8688\\1308439102.py:3: SettingWithCopyWarning: \n",
      "A value is trying to be set on a copy of a slice from a DataFrame\n",
      "\n",
      "See the caveats in the documentation: https://pandas.pydata.org/pandas-docs/stable/user_guide/indexing.html#returning-a-view-versus-a-copy\n",
      "  df2.rename(columns= {\" gdp_for_year ($) \": \"GDP_per_year\"}, inplace= True)\n",
      "C:\\Users\\Ana Cuba\\AppData\\Local\\Temp\\ipykernel_8688\\1308439102.py:6: SettingWithCopyWarning: \n",
      "A value is trying to be set on a copy of a slice from a DataFrame.\n",
      "Try using .loc[row_indexer,col_indexer] = value instead\n",
      "\n",
      "See the caveats in the documentation: https://pandas.pydata.org/pandas-docs/stable/user_guide/indexing.html#returning-a-view-versus-a-copy\n",
      "  df2[\"GDP_per_year\"] = new_GDP\n"
     ]
    }
   ],
   "source": [
    "# Data cleaning of \" gdp_for_year ($)\":\n",
    "# Change the name of column because it has spaces\n",
    "df2.rename(columns= {\" gdp_for_year ($) \": \"GDP_per_year\"}, inplace= True)\n",
    "# Take out the commas of the column to work with the values as numbers\n",
    "new_GDP = df2[\"GDP_per_year\"].apply(lambda x: int(x.replace(\",\",\"\")))\n",
    "df2[\"GDP_per_year\"] = new_GDP"
   ]
  },
  {
   "cell_type": "code",
   "execution_count": 24,
   "metadata": {
    "collapsed": false,
    "ExecuteTime": {
     "end_time": "2023-12-11T20:18:43.218325400Z",
     "start_time": "2023-12-11T20:18:42.972563Z"
    }
   },
   "outputs": [
    {
     "name": "stderr",
     "output_type": "stream",
     "text": [
      "C:\\Users\\Ana Cuba\\AppData\\Local\\Temp\\ipykernel_8688\\1310727802.py:2: SettingWithCopyWarning: \n",
      "A value is trying to be set on a copy of a slice from a DataFrame.\n",
      "Try using .loc[row_indexer,col_indexer] = value instead\n",
      "\n",
      "See the caveats in the documentation: https://pandas.pydata.org/pandas-docs/stable/user_guide/indexing.html#returning-a-view-versus-a-copy\n",
      "  df2.loc[:, \"GDP_per_capita\"] = df2[\"GDP_per_year\"] / df2[\"total_pop\"]\n"
     ]
    },
    {
     "data": {
      "text/plain": "          country  year     sex          age  suicides_no  population  \\\n0         Albania  1987    male  15-24 years         21.0      312900   \n1         Albania  1987    male  35-54 years         16.0      308000   \n2         Albania  1987  female  15-24 years         14.0      289700   \n3         Albania  1987    male    75+ years          1.0       21800   \n4         Albania  1987    male  25-34 years          9.0      274300   \n...           ...   ...     ...          ...          ...         ...   \n27815  Uzbekistan  2014  female  35-54 years         17.0     3620833   \n27816  Uzbekistan  2014  female    75+ years          9.0      348465   \n27817  Uzbekistan  2014    male   5-14 years          6.0     2762158   \n27818  Uzbekistan  2014  female   5-14 years         44.0     2631600   \n27819  Uzbekistan  2014  female  55-74 years         21.0     1438935   \n\n       HDI for year  GDP_per_year  suicides/100k  new_year       Generation  \\\n0               NaN    2156624900       6.711409      1972     Generation X   \n1               NaN    2156624900       5.194805      1952          Boomers   \n2               NaN    2156624900       4.832585      1972     Generation X   \n3               NaN    2156624900       4.587156      1912  G.I. Generation   \n4               NaN    2156624900       3.281079      1962          Boomers   \n...             ...           ...            ...       ...              ...   \n27815         0.675   63067077179       0.469505      1979     Generation X   \n27816         0.675   63067077179       2.582756      1939           Silent   \n27817         0.675   63067077179       0.217221      2009     Generation Z   \n27818         0.675   63067077179       1.671987      2009     Generation Z   \n27819         0.675   63067077179       1.459413      1959          Boomers   \n\n       total_pop  GDP_per_capita  \n0        2709600      795.920025  \n1        2709600      795.920025  \n2        2709600      795.920025  \n3        2709600      795.920025  \n4        2709600      795.920025  \n...          ...             ...  \n27815   27313507     2309.006939  \n27816   27313507     2309.006939  \n27817   27313507     2309.006939  \n27818   27313507     2309.006939  \n27819   27313507     2309.006939  \n\n[23539 rows x 13 columns]",
      "text/html": "<div>\n<style scoped>\n    .dataframe tbody tr th:only-of-type {\n        vertical-align: middle;\n    }\n\n    .dataframe tbody tr th {\n        vertical-align: top;\n    }\n\n    .dataframe thead th {\n        text-align: right;\n    }\n</style>\n<table border=\"1\" class=\"dataframe\">\n  <thead>\n    <tr style=\"text-align: right;\">\n      <th></th>\n      <th>country</th>\n      <th>year</th>\n      <th>sex</th>\n      <th>age</th>\n      <th>suicides_no</th>\n      <th>population</th>\n      <th>HDI for year</th>\n      <th>GDP_per_year</th>\n      <th>suicides/100k</th>\n      <th>new_year</th>\n      <th>Generation</th>\n      <th>total_pop</th>\n      <th>GDP_per_capita</th>\n    </tr>\n  </thead>\n  <tbody>\n    <tr>\n      <th>0</th>\n      <td>Albania</td>\n      <td>1987</td>\n      <td>male</td>\n      <td>15-24 years</td>\n      <td>21.0</td>\n      <td>312900</td>\n      <td>NaN</td>\n      <td>2156624900</td>\n      <td>6.711409</td>\n      <td>1972</td>\n      <td>Generation X</td>\n      <td>2709600</td>\n      <td>795.920025</td>\n    </tr>\n    <tr>\n      <th>1</th>\n      <td>Albania</td>\n      <td>1987</td>\n      <td>male</td>\n      <td>35-54 years</td>\n      <td>16.0</td>\n      <td>308000</td>\n      <td>NaN</td>\n      <td>2156624900</td>\n      <td>5.194805</td>\n      <td>1952</td>\n      <td>Boomers</td>\n      <td>2709600</td>\n      <td>795.920025</td>\n    </tr>\n    <tr>\n      <th>2</th>\n      <td>Albania</td>\n      <td>1987</td>\n      <td>female</td>\n      <td>15-24 years</td>\n      <td>14.0</td>\n      <td>289700</td>\n      <td>NaN</td>\n      <td>2156624900</td>\n      <td>4.832585</td>\n      <td>1972</td>\n      <td>Generation X</td>\n      <td>2709600</td>\n      <td>795.920025</td>\n    </tr>\n    <tr>\n      <th>3</th>\n      <td>Albania</td>\n      <td>1987</td>\n      <td>male</td>\n      <td>75+ years</td>\n      <td>1.0</td>\n      <td>21800</td>\n      <td>NaN</td>\n      <td>2156624900</td>\n      <td>4.587156</td>\n      <td>1912</td>\n      <td>G.I. Generation</td>\n      <td>2709600</td>\n      <td>795.920025</td>\n    </tr>\n    <tr>\n      <th>4</th>\n      <td>Albania</td>\n      <td>1987</td>\n      <td>male</td>\n      <td>25-34 years</td>\n      <td>9.0</td>\n      <td>274300</td>\n      <td>NaN</td>\n      <td>2156624900</td>\n      <td>3.281079</td>\n      <td>1962</td>\n      <td>Boomers</td>\n      <td>2709600</td>\n      <td>795.920025</td>\n    </tr>\n    <tr>\n      <th>...</th>\n      <td>...</td>\n      <td>...</td>\n      <td>...</td>\n      <td>...</td>\n      <td>...</td>\n      <td>...</td>\n      <td>...</td>\n      <td>...</td>\n      <td>...</td>\n      <td>...</td>\n      <td>...</td>\n      <td>...</td>\n      <td>...</td>\n    </tr>\n    <tr>\n      <th>27815</th>\n      <td>Uzbekistan</td>\n      <td>2014</td>\n      <td>female</td>\n      <td>35-54 years</td>\n      <td>17.0</td>\n      <td>3620833</td>\n      <td>0.675</td>\n      <td>63067077179</td>\n      <td>0.469505</td>\n      <td>1979</td>\n      <td>Generation X</td>\n      <td>27313507</td>\n      <td>2309.006939</td>\n    </tr>\n    <tr>\n      <th>27816</th>\n      <td>Uzbekistan</td>\n      <td>2014</td>\n      <td>female</td>\n      <td>75+ years</td>\n      <td>9.0</td>\n      <td>348465</td>\n      <td>0.675</td>\n      <td>63067077179</td>\n      <td>2.582756</td>\n      <td>1939</td>\n      <td>Silent</td>\n      <td>27313507</td>\n      <td>2309.006939</td>\n    </tr>\n    <tr>\n      <th>27817</th>\n      <td>Uzbekistan</td>\n      <td>2014</td>\n      <td>male</td>\n      <td>5-14 years</td>\n      <td>6.0</td>\n      <td>2762158</td>\n      <td>0.675</td>\n      <td>63067077179</td>\n      <td>0.217221</td>\n      <td>2009</td>\n      <td>Generation Z</td>\n      <td>27313507</td>\n      <td>2309.006939</td>\n    </tr>\n    <tr>\n      <th>27818</th>\n      <td>Uzbekistan</td>\n      <td>2014</td>\n      <td>female</td>\n      <td>5-14 years</td>\n      <td>44.0</td>\n      <td>2631600</td>\n      <td>0.675</td>\n      <td>63067077179</td>\n      <td>1.671987</td>\n      <td>2009</td>\n      <td>Generation Z</td>\n      <td>27313507</td>\n      <td>2309.006939</td>\n    </tr>\n    <tr>\n      <th>27819</th>\n      <td>Uzbekistan</td>\n      <td>2014</td>\n      <td>female</td>\n      <td>55-74 years</td>\n      <td>21.0</td>\n      <td>1438935</td>\n      <td>0.675</td>\n      <td>63067077179</td>\n      <td>1.459413</td>\n      <td>1959</td>\n      <td>Boomers</td>\n      <td>27313507</td>\n      <td>2309.006939</td>\n    </tr>\n  </tbody>\n</table>\n<p>23539 rows × 13 columns</p>\n</div>"
     },
     "execution_count": 24,
     "metadata": {},
     "output_type": "execute_result"
    }
   ],
   "source": [
    "# Divide the values of GDP/total population\n",
    "df2.loc[:, \"GDP_per_capita\"] = df2[\"GDP_per_year\"] / df2[\"total_pop\"]\n",
    "df2"
   ]
  },
  {
   "cell_type": "markdown",
   "metadata": {
    "collapsed": false
   },
   "source": [
    "g. Rank countries by total suicides"
   ]
  },
  {
   "cell_type": "code",
   "execution_count": 25,
   "metadata": {
    "collapsed": false,
    "ExecuteTime": {
     "end_time": "2023-12-11T20:18:43.218325400Z",
     "start_time": "2023-12-11T20:18:42.989668200Z"
    }
   },
   "outputs": [
    {
     "name": "stdout",
     "output_type": "stream",
     "text": [
      "Number of suicides per country, in descending order:\n",
      "country\n",
      "Russian Federation     815965.0\n",
      "United States          759837.0\n",
      "Japan                  635785.0\n",
      "France                 240432.0\n",
      "Ukraine                237879.0\n",
      "                         ...   \n",
      "Oman                       33.0\n",
      "Macau                      27.0\n",
      "Maldives                   20.0\n",
      "Antigua and Barbuda        11.0\n",
      "San Marino                  4.0\n",
      "Name: suicides_no, Length: 99, dtype: float64\n"
     ]
    }
   ],
   "source": [
    "# Sum the suicide number by country and sorted from highest to lowest \n",
    "suicides_per_country = df2.groupby([\"country\"])[\"suicides_no\"].sum()\n",
    "suicides_per_country = suicides_per_country.sort_values(ascending= False)\n",
    "print(\"Number of suicides per country, in descending order:\")\n",
    "print(suicides_per_country)"
   ]
  },
  {
   "cell_type": "markdown",
   "metadata": {
    "collapsed": false
   },
   "source": [
    "h. Given a country name, find the year that had the highest number of suicides"
   ]
  },
  {
   "cell_type": "code",
   "execution_count": 26,
   "metadata": {
    "collapsed": false,
    "ExecuteTime": {
     "end_time": "2023-12-11T20:18:43.218325400Z",
     "start_time": "2023-12-11T20:18:42.997536400Z"
    }
   },
   "outputs": [
    {
     "name": "stderr",
     "output_type": "stream",
     "text": [
      "C:\\Users\\Ana Cuba\\AppData\\Local\\Temp\\ipykernel_8688\\2531370476.py:2: FutureWarning: The provided callable <built-in function sum> is currently using SeriesGroupBy.sum. In a future version of pandas, the provided callable will be used directly. To keep current behavior pass the string \"sum\" instead.\n",
      "  df2.loc[:, \"suicide/year\"] = df2.groupby([\"country\", \"year\"])[\"suicides_no\"].transform(sum)\n",
      "C:\\Users\\Ana Cuba\\AppData\\Local\\Temp\\ipykernel_8688\\2531370476.py:2: SettingWithCopyWarning: \n",
      "A value is trying to be set on a copy of a slice from a DataFrame.\n",
      "Try using .loc[row_indexer,col_indexer] = value instead\n",
      "\n",
      "See the caveats in the documentation: https://pandas.pydata.org/pandas-docs/stable/user_guide/indexing.html#returning-a-view-versus-a-copy\n",
      "  df2.loc[:, \"suicide/year\"] = df2.groupby([\"country\", \"year\"])[\"suicides_no\"].transform(sum)\n"
     ]
    },
    {
     "data": {
      "text/plain": "          country  year  suicide/year\n0         Albania  1987          73.0\n12        Albania  1988          63.0\n24        Albania  1989          68.0\n36        Albania  1992          47.0\n48        Albania  1993          55.0\n...           ...   ...           ...\n27760  Uzbekistan  2010        1077.0\n27772  Uzbekistan  2011        1631.0\n27784  Uzbekistan  2012        1214.0\n27796  Uzbekistan  2013        1662.0\n27808  Uzbekistan  2014        1951.0\n\n[2256 rows x 3 columns]",
      "text/html": "<div>\n<style scoped>\n    .dataframe tbody tr th:only-of-type {\n        vertical-align: middle;\n    }\n\n    .dataframe tbody tr th {\n        vertical-align: top;\n    }\n\n    .dataframe thead th {\n        text-align: right;\n    }\n</style>\n<table border=\"1\" class=\"dataframe\">\n  <thead>\n    <tr style=\"text-align: right;\">\n      <th></th>\n      <th>country</th>\n      <th>year</th>\n      <th>suicide/year</th>\n    </tr>\n  </thead>\n  <tbody>\n    <tr>\n      <th>0</th>\n      <td>Albania</td>\n      <td>1987</td>\n      <td>73.0</td>\n    </tr>\n    <tr>\n      <th>12</th>\n      <td>Albania</td>\n      <td>1988</td>\n      <td>63.0</td>\n    </tr>\n    <tr>\n      <th>24</th>\n      <td>Albania</td>\n      <td>1989</td>\n      <td>68.0</td>\n    </tr>\n    <tr>\n      <th>36</th>\n      <td>Albania</td>\n      <td>1992</td>\n      <td>47.0</td>\n    </tr>\n    <tr>\n      <th>48</th>\n      <td>Albania</td>\n      <td>1993</td>\n      <td>55.0</td>\n    </tr>\n    <tr>\n      <th>...</th>\n      <td>...</td>\n      <td>...</td>\n      <td>...</td>\n    </tr>\n    <tr>\n      <th>27760</th>\n      <td>Uzbekistan</td>\n      <td>2010</td>\n      <td>1077.0</td>\n    </tr>\n    <tr>\n      <th>27772</th>\n      <td>Uzbekistan</td>\n      <td>2011</td>\n      <td>1631.0</td>\n    </tr>\n    <tr>\n      <th>27784</th>\n      <td>Uzbekistan</td>\n      <td>2012</td>\n      <td>1214.0</td>\n    </tr>\n    <tr>\n      <th>27796</th>\n      <td>Uzbekistan</td>\n      <td>2013</td>\n      <td>1662.0</td>\n    </tr>\n    <tr>\n      <th>27808</th>\n      <td>Uzbekistan</td>\n      <td>2014</td>\n      <td>1951.0</td>\n    </tr>\n  </tbody>\n</table>\n<p>2256 rows × 3 columns</p>\n</div>"
     },
     "execution_count": 26,
     "metadata": {},
     "output_type": "execute_result"
    }
   ],
   "source": [
    "# Creating a column for the number of suicides per year of each country\n",
    "df2.loc[:, \"suicide/year\"] = df2.groupby([\"country\", \"year\"])[\"suicides_no\"].transform(sum)\n",
    "# Copied in another dataframe\n",
    "df4 = df2[[\"country\", \"year\", \"suicide/year\"]].copy()\n",
    "df4.drop_duplicates(keep= 'first', inplace= True)\n",
    "df4      "
   ]
  },
  {
   "cell_type": "code",
   "execution_count": 27,
   "metadata": {
    "collapsed": false,
    "ExecuteTime": {
     "end_time": "2023-12-11T20:18:43.218325400Z",
     "start_time": "2023-12-11T20:18:43.020423800Z"
    }
   },
   "outputs": [],
   "source": [
    "def find_max(x):\n",
    "    \"\"\"Given a country (x), find year with the maximum number of suicides\"\"\"\n",
    "    # first find the rows of the country and assign to new df \n",
    "    country_df = df4.loc[df4[\"country\"] == x]\n",
    "    # then find the row with the max value of the column \"suicide/year\"\n",
    "    row = country_df.groupby([\"country\"])[\"suicide/year\"].idxmax()\n",
    "    # finally find the year in that row, but without showing the index\n",
    "    return country_df.loc[row][\"year\"].to_string(index=False)"
   ]
  },
  {
   "cell_type": "code",
   "execution_count": 28,
   "metadata": {
    "collapsed": false,
    "ExecuteTime": {
     "end_time": "2023-12-11T20:18:43.218325400Z",
     "start_time": "2023-12-11T20:18:43.020423800Z"
    }
   },
   "outputs": [
    {
     "name": "stdout",
     "output_type": "stream",
     "text": [
      "Year with the highest number of suicides in Albania: 1998\n"
     ]
    }
   ],
   "source": [
    "# now we try with a given country\n",
    "c = \"Albania\"\n",
    "print(f\"Year with the highest number of suicides in {c}: {find_max(c)}\")"
   ]
  },
  {
   "cell_type": "markdown",
   "metadata": {
    "collapsed": false
   },
   "source": [
    "i. Given a year and country name, calculate the number of suicides by gender: "
   ]
  },
  {
   "cell_type": "code",
   "execution_count": 29,
   "metadata": {
    "collapsed": false,
    "ExecuteTime": {
     "end_time": "2023-12-11T20:18:43.218325400Z",
     "start_time": "2023-12-11T20:18:43.028287400Z"
    }
   },
   "outputs": [
    {
     "name": "stderr",
     "output_type": "stream",
     "text": [
      "C:\\Users\\Ana Cuba\\AppData\\Local\\Temp\\ipykernel_8688\\2334658554.py:2: SettingWithCopyWarning: \n",
      "A value is trying to be set on a copy of a slice from a DataFrame.\n",
      "Try using .loc[row_indexer,col_indexer] = value instead\n",
      "\n",
      "See the caveats in the documentation: https://pandas.pydata.org/pandas-docs/stable/user_guide/indexing.html#returning-a-view-versus-a-copy\n",
      "  df2.loc[:, \"suicide/gender\"] = df2.groupby([\"country\", \"year\", \"sex\"])[\"suicides_no\"].transform('sum')\n"
     ]
    },
    {
     "data": {
      "text/plain": "          country  year     sex  suicide/gender\n0         Albania  1987    male            48.0\n2         Albania  1987  female            25.0\n12        Albania  1988  female            22.0\n13        Albania  1988    male            41.0\n24        Albania  1989    male            53.0\n...           ...   ...     ...             ...\n27787  Uzbekistan  2012  female           615.0\n27796  Uzbekistan  2013    male          1034.0\n27798  Uzbekistan  2013  female           628.0\n27808  Uzbekistan  2014    male          1351.0\n27810  Uzbekistan  2014  female           600.0\n\n[4395 rows x 4 columns]",
      "text/html": "<div>\n<style scoped>\n    .dataframe tbody tr th:only-of-type {\n        vertical-align: middle;\n    }\n\n    .dataframe tbody tr th {\n        vertical-align: top;\n    }\n\n    .dataframe thead th {\n        text-align: right;\n    }\n</style>\n<table border=\"1\" class=\"dataframe\">\n  <thead>\n    <tr style=\"text-align: right;\">\n      <th></th>\n      <th>country</th>\n      <th>year</th>\n      <th>sex</th>\n      <th>suicide/gender</th>\n    </tr>\n  </thead>\n  <tbody>\n    <tr>\n      <th>0</th>\n      <td>Albania</td>\n      <td>1987</td>\n      <td>male</td>\n      <td>48.0</td>\n    </tr>\n    <tr>\n      <th>2</th>\n      <td>Albania</td>\n      <td>1987</td>\n      <td>female</td>\n      <td>25.0</td>\n    </tr>\n    <tr>\n      <th>12</th>\n      <td>Albania</td>\n      <td>1988</td>\n      <td>female</td>\n      <td>22.0</td>\n    </tr>\n    <tr>\n      <th>13</th>\n      <td>Albania</td>\n      <td>1988</td>\n      <td>male</td>\n      <td>41.0</td>\n    </tr>\n    <tr>\n      <th>24</th>\n      <td>Albania</td>\n      <td>1989</td>\n      <td>male</td>\n      <td>53.0</td>\n    </tr>\n    <tr>\n      <th>...</th>\n      <td>...</td>\n      <td>...</td>\n      <td>...</td>\n      <td>...</td>\n    </tr>\n    <tr>\n      <th>27787</th>\n      <td>Uzbekistan</td>\n      <td>2012</td>\n      <td>female</td>\n      <td>615.0</td>\n    </tr>\n    <tr>\n      <th>27796</th>\n      <td>Uzbekistan</td>\n      <td>2013</td>\n      <td>male</td>\n      <td>1034.0</td>\n    </tr>\n    <tr>\n      <th>27798</th>\n      <td>Uzbekistan</td>\n      <td>2013</td>\n      <td>female</td>\n      <td>628.0</td>\n    </tr>\n    <tr>\n      <th>27808</th>\n      <td>Uzbekistan</td>\n      <td>2014</td>\n      <td>male</td>\n      <td>1351.0</td>\n    </tr>\n    <tr>\n      <th>27810</th>\n      <td>Uzbekistan</td>\n      <td>2014</td>\n      <td>female</td>\n      <td>600.0</td>\n    </tr>\n  </tbody>\n</table>\n<p>4395 rows × 4 columns</p>\n</div>"
     },
     "execution_count": 29,
     "metadata": {},
     "output_type": "execute_result"
    }
   ],
   "source": [
    "# Creating a column with the value of suicides per gender, per country and per year:\n",
    "df2.loc[:, \"suicide/gender\"] = df2.groupby([\"country\", \"year\", \"sex\"])[\"suicides_no\"].transform('sum')\n",
    "# Copied the columns I need to another dataframe:\n",
    "df5 = df2[[\"country\", \"year\", \"sex\", \"suicide/gender\"]].copy()\n",
    "df5.drop_duplicates(keep= 'first', inplace= True)\n",
    "df5 "
   ]
  },
  {
   "cell_type": "code",
   "execution_count": 30,
   "metadata": {
    "collapsed": false,
    "ExecuteTime": {
     "end_time": "2023-12-11T20:18:43.218325400Z",
     "start_time": "2023-12-11T20:18:43.049894700Z"
    }
   },
   "outputs": [
    {
     "data": {
      "text/plain": "          country  year     sex  suicide/gender\n27784  Uzbekistan  2012    male           599.0\n27787  Uzbekistan  2012  female           615.0",
      "text/html": "<div>\n<style scoped>\n    .dataframe tbody tr th:only-of-type {\n        vertical-align: middle;\n    }\n\n    .dataframe tbody tr th {\n        vertical-align: top;\n    }\n\n    .dataframe thead th {\n        text-align: right;\n    }\n</style>\n<table border=\"1\" class=\"dataframe\">\n  <thead>\n    <tr style=\"text-align: right;\">\n      <th></th>\n      <th>country</th>\n      <th>year</th>\n      <th>sex</th>\n      <th>suicide/gender</th>\n    </tr>\n  </thead>\n  <tbody>\n    <tr>\n      <th>27784</th>\n      <td>Uzbekistan</td>\n      <td>2012</td>\n      <td>male</td>\n      <td>599.0</td>\n    </tr>\n    <tr>\n      <th>27787</th>\n      <td>Uzbekistan</td>\n      <td>2012</td>\n      <td>female</td>\n      <td>615.0</td>\n    </tr>\n  </tbody>\n</table>\n</div>"
     },
     "execution_count": 30,
     "metadata": {},
     "output_type": "execute_result"
    }
   ],
   "source": [
    "# given country and year\n",
    "z = \"Uzbekistan\"\n",
    "y = 2012\n",
    "# find the country and assign the rows to a new df\n",
    "new_df = df5.loc[df5[\"country\"] == z]\n",
    "# then find the rows of that year there\n",
    "new_df[new_df[\"year\"] == y]"
   ]
  },
  {
   "cell_type": "markdown",
   "metadata": {
    "collapsed": false
   },
   "source": [
    "j. Find total suicides by continents"
   ]
  },
  {
   "cell_type": "code",
   "execution_count": 31,
   "metadata": {
    "collapsed": false,
    "ExecuteTime": {
     "end_time": "2023-12-11T20:18:43.218325400Z",
     "start_time": "2023-12-11T20:18:43.063240900Z"
    }
   },
   "outputs": [
    {
     "data": {
      "text/plain": "         Continent      Country\n0           Africa      Algeria\n1           Africa       Angola\n2           Africa        Benin\n3           Africa     Botswana\n4           Africa      Burkina\n..             ...          ...\n192  South America      Uruguay\n193  South America    Venezuela\n194           Asia        Macau\n195  North America  Puerto Rico\n196  South America        Aruba\n\n[197 rows x 2 columns]",
      "text/html": "<div>\n<style scoped>\n    .dataframe tbody tr th:only-of-type {\n        vertical-align: middle;\n    }\n\n    .dataframe tbody tr th {\n        vertical-align: top;\n    }\n\n    .dataframe thead th {\n        text-align: right;\n    }\n</style>\n<table border=\"1\" class=\"dataframe\">\n  <thead>\n    <tr style=\"text-align: right;\">\n      <th></th>\n      <th>Continent</th>\n      <th>Country</th>\n    </tr>\n  </thead>\n  <tbody>\n    <tr>\n      <th>0</th>\n      <td>Africa</td>\n      <td>Algeria</td>\n    </tr>\n    <tr>\n      <th>1</th>\n      <td>Africa</td>\n      <td>Angola</td>\n    </tr>\n    <tr>\n      <th>2</th>\n      <td>Africa</td>\n      <td>Benin</td>\n    </tr>\n    <tr>\n      <th>3</th>\n      <td>Africa</td>\n      <td>Botswana</td>\n    </tr>\n    <tr>\n      <th>4</th>\n      <td>Africa</td>\n      <td>Burkina</td>\n    </tr>\n    <tr>\n      <th>...</th>\n      <td>...</td>\n      <td>...</td>\n    </tr>\n    <tr>\n      <th>192</th>\n      <td>South America</td>\n      <td>Uruguay</td>\n    </tr>\n    <tr>\n      <th>193</th>\n      <td>South America</td>\n      <td>Venezuela</td>\n    </tr>\n    <tr>\n      <th>194</th>\n      <td>Asia</td>\n      <td>Macau</td>\n    </tr>\n    <tr>\n      <th>195</th>\n      <td>North America</td>\n      <td>Puerto Rico</td>\n    </tr>\n    <tr>\n      <th>196</th>\n      <td>South America</td>\n      <td>Aruba</td>\n    </tr>\n  </tbody>\n</table>\n<p>197 rows × 2 columns</p>\n</div>"
     },
     "execution_count": 31,
     "metadata": {},
     "output_type": "execute_result"
    }
   ],
   "source": [
    "df_cc = pd.read_csv(\"Countries-Continents.csv\")\n",
    "# source: https://github.com/dbouquin/IS_608/blob/master/NanosatDB_munging/Countries-Continents.csv\n",
    "# Replacing the names of some countries written differently in the main dataframe:\n",
    "df_cc.replace(\"US\",\"United States\", inplace= True)\n",
    "df_cc.replace(\"Saint Vincent and the Grenadines\", \"Saint Vincent and Grenadines\", inplace= True)\n",
    "df_cc.replace(\"Korea, South\", \"Republic of Korea\", inplace= True)\n",
    "df_cc.replace(\"Cape Verde\", \"Cabo Verde\", inplace= True)\n",
    "df_cc.replace(\"CZ\", \"Czech Republic\", inplace= True)\n",
    "# Adding the missing countries in this dataframe\n",
    "dict_cc = {\"Continent\": [\"Asia\", \"North America\", \"South America\"], \n",
    "           \"Country\": [\"Macau\",\"Puerto Rico\", \"Aruba\"]}\n",
    "df_cc2 = pd.DataFrame(dict_cc)\n",
    "df_c = pd.concat([df_cc, df_cc2], ignore_index= True)\n",
    "df_c"
   ]
  },
  {
   "cell_type": "code",
   "execution_count": 32,
   "metadata": {
    "collapsed": false,
    "ExecuteTime": {
     "end_time": "2023-12-11T20:18:43.218325400Z",
     "start_time": "2023-12-11T20:18:43.072626500Z"
    }
   },
   "outputs": [
    {
     "data": {
      "text/plain": "          country  year     sex          age  suicides_no  population  \\\n0         Albania  1987    male  15-24 years         21.0      312900   \n1         Albania  1987    male  35-54 years         16.0      308000   \n2         Albania  1987  female  15-24 years         14.0      289700   \n3         Albania  1987    male    75+ years          1.0       21800   \n4         Albania  1987    male  25-34 years          9.0      274300   \n...           ...   ...     ...          ...          ...         ...   \n23534  Uzbekistan  2014  female  35-54 years         17.0     3620833   \n23535  Uzbekistan  2014  female    75+ years          9.0      348465   \n23536  Uzbekistan  2014    male   5-14 years          6.0     2762158   \n23537  Uzbekistan  2014  female   5-14 years         44.0     2631600   \n23538  Uzbekistan  2014  female  55-74 years         21.0     1438935   \n\n       HDI for year  GDP_per_year  suicides/100k  new_year       Generation  \\\n0               NaN    2156624900       6.711409      1972     Generation X   \n1               NaN    2156624900       5.194805      1952          Boomers   \n2               NaN    2156624900       4.832585      1972     Generation X   \n3               NaN    2156624900       4.587156      1912  G.I. Generation   \n4               NaN    2156624900       3.281079      1962          Boomers   \n...             ...           ...            ...       ...              ...   \n23534         0.675   63067077179       0.469505      1979     Generation X   \n23535         0.675   63067077179       2.582756      1939           Silent   \n23536         0.675   63067077179       0.217221      2009     Generation Z   \n23537         0.675   63067077179       1.671987      2009     Generation Z   \n23538         0.675   63067077179       1.459413      1959          Boomers   \n\n       total_pop  GDP_per_capita  suicide/year  suicide/gender Continent  \n0        2709600      795.920025          73.0            48.0    Europe  \n1        2709600      795.920025          73.0            48.0    Europe  \n2        2709600      795.920025          73.0            25.0    Europe  \n3        2709600      795.920025          73.0            48.0    Europe  \n4        2709600      795.920025          73.0            48.0    Europe  \n...          ...             ...           ...             ...       ...  \n23534   27313507     2309.006939        1951.0           600.0      Asia  \n23535   27313507     2309.006939        1951.0           600.0      Asia  \n23536   27313507     2309.006939        1951.0          1351.0      Asia  \n23537   27313507     2309.006939        1951.0           600.0      Asia  \n23538   27313507     2309.006939        1951.0           600.0      Asia  \n\n[23539 rows x 16 columns]",
      "text/html": "<div>\n<style scoped>\n    .dataframe tbody tr th:only-of-type {\n        vertical-align: middle;\n    }\n\n    .dataframe tbody tr th {\n        vertical-align: top;\n    }\n\n    .dataframe thead th {\n        text-align: right;\n    }\n</style>\n<table border=\"1\" class=\"dataframe\">\n  <thead>\n    <tr style=\"text-align: right;\">\n      <th></th>\n      <th>country</th>\n      <th>year</th>\n      <th>sex</th>\n      <th>age</th>\n      <th>suicides_no</th>\n      <th>population</th>\n      <th>HDI for year</th>\n      <th>GDP_per_year</th>\n      <th>suicides/100k</th>\n      <th>new_year</th>\n      <th>Generation</th>\n      <th>total_pop</th>\n      <th>GDP_per_capita</th>\n      <th>suicide/year</th>\n      <th>suicide/gender</th>\n      <th>Continent</th>\n    </tr>\n  </thead>\n  <tbody>\n    <tr>\n      <th>0</th>\n      <td>Albania</td>\n      <td>1987</td>\n      <td>male</td>\n      <td>15-24 years</td>\n      <td>21.0</td>\n      <td>312900</td>\n      <td>NaN</td>\n      <td>2156624900</td>\n      <td>6.711409</td>\n      <td>1972</td>\n      <td>Generation X</td>\n      <td>2709600</td>\n      <td>795.920025</td>\n      <td>73.0</td>\n      <td>48.0</td>\n      <td>Europe</td>\n    </tr>\n    <tr>\n      <th>1</th>\n      <td>Albania</td>\n      <td>1987</td>\n      <td>male</td>\n      <td>35-54 years</td>\n      <td>16.0</td>\n      <td>308000</td>\n      <td>NaN</td>\n      <td>2156624900</td>\n      <td>5.194805</td>\n      <td>1952</td>\n      <td>Boomers</td>\n      <td>2709600</td>\n      <td>795.920025</td>\n      <td>73.0</td>\n      <td>48.0</td>\n      <td>Europe</td>\n    </tr>\n    <tr>\n      <th>2</th>\n      <td>Albania</td>\n      <td>1987</td>\n      <td>female</td>\n      <td>15-24 years</td>\n      <td>14.0</td>\n      <td>289700</td>\n      <td>NaN</td>\n      <td>2156624900</td>\n      <td>4.832585</td>\n      <td>1972</td>\n      <td>Generation X</td>\n      <td>2709600</td>\n      <td>795.920025</td>\n      <td>73.0</td>\n      <td>25.0</td>\n      <td>Europe</td>\n    </tr>\n    <tr>\n      <th>3</th>\n      <td>Albania</td>\n      <td>1987</td>\n      <td>male</td>\n      <td>75+ years</td>\n      <td>1.0</td>\n      <td>21800</td>\n      <td>NaN</td>\n      <td>2156624900</td>\n      <td>4.587156</td>\n      <td>1912</td>\n      <td>G.I. Generation</td>\n      <td>2709600</td>\n      <td>795.920025</td>\n      <td>73.0</td>\n      <td>48.0</td>\n      <td>Europe</td>\n    </tr>\n    <tr>\n      <th>4</th>\n      <td>Albania</td>\n      <td>1987</td>\n      <td>male</td>\n      <td>25-34 years</td>\n      <td>9.0</td>\n      <td>274300</td>\n      <td>NaN</td>\n      <td>2156624900</td>\n      <td>3.281079</td>\n      <td>1962</td>\n      <td>Boomers</td>\n      <td>2709600</td>\n      <td>795.920025</td>\n      <td>73.0</td>\n      <td>48.0</td>\n      <td>Europe</td>\n    </tr>\n    <tr>\n      <th>...</th>\n      <td>...</td>\n      <td>...</td>\n      <td>...</td>\n      <td>...</td>\n      <td>...</td>\n      <td>...</td>\n      <td>...</td>\n      <td>...</td>\n      <td>...</td>\n      <td>...</td>\n      <td>...</td>\n      <td>...</td>\n      <td>...</td>\n      <td>...</td>\n      <td>...</td>\n      <td>...</td>\n    </tr>\n    <tr>\n      <th>23534</th>\n      <td>Uzbekistan</td>\n      <td>2014</td>\n      <td>female</td>\n      <td>35-54 years</td>\n      <td>17.0</td>\n      <td>3620833</td>\n      <td>0.675</td>\n      <td>63067077179</td>\n      <td>0.469505</td>\n      <td>1979</td>\n      <td>Generation X</td>\n      <td>27313507</td>\n      <td>2309.006939</td>\n      <td>1951.0</td>\n      <td>600.0</td>\n      <td>Asia</td>\n    </tr>\n    <tr>\n      <th>23535</th>\n      <td>Uzbekistan</td>\n      <td>2014</td>\n      <td>female</td>\n      <td>75+ years</td>\n      <td>9.0</td>\n      <td>348465</td>\n      <td>0.675</td>\n      <td>63067077179</td>\n      <td>2.582756</td>\n      <td>1939</td>\n      <td>Silent</td>\n      <td>27313507</td>\n      <td>2309.006939</td>\n      <td>1951.0</td>\n      <td>600.0</td>\n      <td>Asia</td>\n    </tr>\n    <tr>\n      <th>23536</th>\n      <td>Uzbekistan</td>\n      <td>2014</td>\n      <td>male</td>\n      <td>5-14 years</td>\n      <td>6.0</td>\n      <td>2762158</td>\n      <td>0.675</td>\n      <td>63067077179</td>\n      <td>0.217221</td>\n      <td>2009</td>\n      <td>Generation Z</td>\n      <td>27313507</td>\n      <td>2309.006939</td>\n      <td>1951.0</td>\n      <td>1351.0</td>\n      <td>Asia</td>\n    </tr>\n    <tr>\n      <th>23537</th>\n      <td>Uzbekistan</td>\n      <td>2014</td>\n      <td>female</td>\n      <td>5-14 years</td>\n      <td>44.0</td>\n      <td>2631600</td>\n      <td>0.675</td>\n      <td>63067077179</td>\n      <td>1.671987</td>\n      <td>2009</td>\n      <td>Generation Z</td>\n      <td>27313507</td>\n      <td>2309.006939</td>\n      <td>1951.0</td>\n      <td>600.0</td>\n      <td>Asia</td>\n    </tr>\n    <tr>\n      <th>23538</th>\n      <td>Uzbekistan</td>\n      <td>2014</td>\n      <td>female</td>\n      <td>55-74 years</td>\n      <td>21.0</td>\n      <td>1438935</td>\n      <td>0.675</td>\n      <td>63067077179</td>\n      <td>1.459413</td>\n      <td>1959</td>\n      <td>Boomers</td>\n      <td>27313507</td>\n      <td>2309.006939</td>\n      <td>1951.0</td>\n      <td>600.0</td>\n      <td>Asia</td>\n    </tr>\n  </tbody>\n</table>\n<p>23539 rows × 16 columns</p>\n</div>"
     },
     "execution_count": 32,
     "metadata": {},
     "output_type": "execute_result"
    }
   ],
   "source": [
    "df_c.rename(columns= {\"Country\": \"country\"}, inplace= True)\n",
    "# Adding the information of the continents to the main dataframe, keeping the rows of df2. Save it as another dataframe\n",
    "df6 = pd.merge(df2, df_c, on=\"country\", how='left')\n",
    "df6"
   ]
  },
  {
   "cell_type": "code",
   "execution_count": 33,
   "metadata": {
    "collapsed": false,
    "ExecuteTime": {
     "end_time": "2023-12-11T20:18:43.296850300Z",
     "start_time": "2023-12-11T20:18:43.093743800Z"
    }
   },
   "outputs": [
    {
     "data": {
      "text/plain": "0"
     },
     "execution_count": 33,
     "metadata": {},
     "output_type": "execute_result"
    }
   ],
   "source": [
    "# To check if there are empty values in new column\n",
    "df6[\"Continent\"].isnull().sum()"
   ]
  },
  {
   "cell_type": "code",
   "execution_count": 34,
   "metadata": {
    "collapsed": false,
    "ExecuteTime": {
     "end_time": "2023-12-11T20:18:43.306299600Z",
     "start_time": "2023-12-11T20:18:43.099643100Z"
    }
   },
   "outputs": [
    {
     "data": {
      "text/plain": "array([], dtype=object)"
     },
     "execution_count": 34,
     "metadata": {},
     "output_type": "execute_result"
    }
   ],
   "source": [
    "# new array where the value of the column \"Continent\" is empty\n",
    "null_rows = df6.loc[df6['Continent'].isnull()]\n",
    "# to see the countries in those rows where the value of \"Continent\" is null\n",
    "null_rows[\"country\"].unique()\n"
   ]
  },
  {
   "cell_type": "code",
   "execution_count": 35,
   "metadata": {
    "collapsed": false,
    "ExecuteTime": {
     "end_time": "2023-12-11T20:18:43.314483900Z",
     "start_time": "2023-12-11T20:18:43.108666500Z"
    }
   },
   "outputs": [
    {
     "name": "stdout",
     "output_type": "stream",
     "text": [
      "Total number of suicides per continent:\n"
     ]
    },
    {
     "data": {
      "text/plain": "Continent\nAfrica             10086.0\nAsia             1962597.0\nEurope           1726967.0\nNorth America    1004442.0\nOceania            71792.0\nSouth America     353085.0\nName: suicides_no, dtype: float64"
     },
     "execution_count": 35,
     "metadata": {},
     "output_type": "execute_result"
    }
   ],
   "source": [
    "print(\"Total number of suicides per continent:\")\n",
    "df6.groupby([\"Continent\"])[\"suicides_no\"].sum()"
   ]
  },
  {
   "cell_type": "markdown",
   "metadata": {
    "collapsed": false
   },
   "source": [
    "k. Find correlations between suicides, GDP per capita and population. \n",
    "   What are your conclusions?"
   ]
  },
  {
   "cell_type": "code",
   "execution_count": 36,
   "metadata": {
    "collapsed": false,
    "ExecuteTime": {
     "end_time": "2023-12-11T20:18:43.587588600Z",
     "start_time": "2023-12-11T20:18:43.116922200Z"
    }
   },
   "outputs": [
    {
     "data": {
      "text/plain": "      GDP_per_capita  total_pop  suicides_no\n0         251.356097    2822500         47.0\n1         290.607949    4298100        466.0\n2         313.488177    4369202        501.0\n3         344.597080    4425784        533.0\n4         356.832769    3366600         88.0\n...              ...        ...          ...\n2251   113119.729579     501044         42.0\n2252   120422.619194     512689         31.0\n2253   121314.519244     460371         25.0\n2254   122729.435680     488918         37.0\n2255   126352.238711     524940         49.0\n\n[2256 rows x 3 columns]",
      "text/html": "<div>\n<style scoped>\n    .dataframe tbody tr th:only-of-type {\n        vertical-align: middle;\n    }\n\n    .dataframe tbody tr th {\n        vertical-align: top;\n    }\n\n    .dataframe thead th {\n        text-align: right;\n    }\n</style>\n<table border=\"1\" class=\"dataframe\">\n  <thead>\n    <tr style=\"text-align: right;\">\n      <th></th>\n      <th>GDP_per_capita</th>\n      <th>total_pop</th>\n      <th>suicides_no</th>\n    </tr>\n  </thead>\n  <tbody>\n    <tr>\n      <th>0</th>\n      <td>251.356097</td>\n      <td>2822500</td>\n      <td>47.0</td>\n    </tr>\n    <tr>\n      <th>1</th>\n      <td>290.607949</td>\n      <td>4298100</td>\n      <td>466.0</td>\n    </tr>\n    <tr>\n      <th>2</th>\n      <td>313.488177</td>\n      <td>4369202</td>\n      <td>501.0</td>\n    </tr>\n    <tr>\n      <th>3</th>\n      <td>344.597080</td>\n      <td>4425784</td>\n      <td>533.0</td>\n    </tr>\n    <tr>\n      <th>4</th>\n      <td>356.832769</td>\n      <td>3366600</td>\n      <td>88.0</td>\n    </tr>\n    <tr>\n      <th>...</th>\n      <td>...</td>\n      <td>...</td>\n      <td>...</td>\n    </tr>\n    <tr>\n      <th>2251</th>\n      <td>113119.729579</td>\n      <td>501044</td>\n      <td>42.0</td>\n    </tr>\n    <tr>\n      <th>2252</th>\n      <td>120422.619194</td>\n      <td>512689</td>\n      <td>31.0</td>\n    </tr>\n    <tr>\n      <th>2253</th>\n      <td>121314.519244</td>\n      <td>460371</td>\n      <td>25.0</td>\n    </tr>\n    <tr>\n      <th>2254</th>\n      <td>122729.435680</td>\n      <td>488918</td>\n      <td>37.0</td>\n    </tr>\n    <tr>\n      <th>2255</th>\n      <td>126352.238711</td>\n      <td>524940</td>\n      <td>49.0</td>\n    </tr>\n  </tbody>\n</table>\n<p>2256 rows × 3 columns</p>\n</div>"
     },
     "execution_count": 36,
     "metadata": {},
     "output_type": "execute_result"
    }
   ],
   "source": [
    "# Creating a new dataframe with the information of the GDP per capita, the total population, and the sum of the number of suicides\n",
    "# Because this new dataframe has \"GDP_per_capita\" and \"total_pop\" as index, I have to reset the indexes\n",
    "df7 = df2.groupby([\"GDP_per_capita\", \"total_pop\"])[\"suicides_no\"].sum().reset_index()\n",
    "df7"
   ]
  },
  {
   "cell_type": "code",
   "execution_count": 37,
   "metadata": {
    "collapsed": false,
    "ExecuteTime": {
     "end_time": "2023-12-11T20:18:43.587588600Z",
     "start_time": "2023-12-11T20:18:43.133923Z"
    }
   },
   "outputs": [],
   "source": [
    "# Installing the necessary libraries\n",
    "import seaborn as sns \n",
    "import matplotlib.pyplot as plt"
   ]
  },
  {
   "cell_type": "code",
   "execution_count": 38,
   "metadata": {
    "collapsed": false,
    "ExecuteTime": {
     "end_time": "2023-12-11T20:18:43.807543400Z",
     "start_time": "2023-12-11T20:18:43.133923Z"
    }
   },
   "outputs": [
    {
     "data": {
      "text/plain": "<Figure size 700x500 with 2 Axes>",
      "image/png": "[encoded data removed]"
     },
     "metadata": {},
     "output_type": "display_data"
    },
    {
     "data": {
      "text/plain": "                GDP_per_capita  total_pop  suicides_no\nGDP_per_capita        1.000000   0.084499     0.095997\ntotal_pop             0.084499   1.000000     0.798638\nsuicides_no           0.095997   0.798638     1.000000",
      "text/html": "<div>\n<style scoped>\n    .dataframe tbody tr th:only-of-type {\n        vertical-align: middle;\n    }\n\n    .dataframe tbody tr th {\n        vertical-align: top;\n    }\n\n    .dataframe thead th {\n        text-align: right;\n    }\n</style>\n<table border=\"1\" class=\"dataframe\">\n  <thead>\n    <tr style=\"text-align: right;\">\n      <th></th>\n      <th>GDP_per_capita</th>\n      <th>total_pop</th>\n      <th>suicides_no</th>\n    </tr>\n  </thead>\n  <tbody>\n    <tr>\n      <th>GDP_per_capita</th>\n      <td>1.000000</td>\n      <td>0.084499</td>\n      <td>0.095997</td>\n    </tr>\n    <tr>\n      <th>total_pop</th>\n      <td>0.084499</td>\n      <td>1.000000</td>\n      <td>0.798638</td>\n    </tr>\n    <tr>\n      <th>suicides_no</th>\n      <td>0.095997</td>\n      <td>0.798638</td>\n      <td>1.000000</td>\n    </tr>\n  </tbody>\n</table>\n</div>"
     },
     "execution_count": 38,
     "metadata": {},
     "output_type": "execute_result"
    }
   ],
   "source": [
    "# Correlation matrix of the features in df7, showing the heatmap and the Pearson coefficient matrix\n",
    "corrMatrix = df7.corr(method= 'pearson', min_periods= 1)\n",
    "plt.figure(figsize=(7,5))\n",
    "sns.heatmap(corrMatrix, annot=True, vmax=1, vmin=-1, center=0)\n",
    "plt.show()\n",
    "\n",
    "corrMatrix"
   ]
  },
  {
   "cell_type": "markdown",
   "source": [
    "Conclusions:\n",
    "-\tWith the heatmap is easier to see that there is a positive correlation between the number of suicides and the size of the population (the coefficient of Pearson is 0.8, close to 1). It means that if the population increases, the suicides increase. \n",
    "-\tThe Pearson coefficient between the GDP per capita and the number of suicides is closer to 0, so there is no clear correlation between those features. The same happens with the correlation between the GDP per capita and the size of the population.\n"
   ],
   "metadata": {
    "collapsed": false
   }
  },
  {
   "cell_type": "markdown",
   "metadata": {
    "collapsed": false
   },
   "source": [
    "l. Use appropriate visual notation to visualise total suicides over years. Describe your arguments"
   ]
  },
  {
   "cell_type": "code",
   "execution_count": 39,
   "outputs": [
    {
     "data": {
      "text/plain": "    year  suicides_no\n0   1985      89009.0\n1   1986      87541.0\n2   1987     101102.0\n3   1988      94683.0\n4   1989     120329.0\n5   1990     131333.0\n6   1991     159158.0\n7   1992     160488.0\n8   1993     166539.0\n9   1994     199798.0\n10  1995     183136.0\n11  1996     175193.0\n12  1997     179995.0\n13  1998     188787.0\n14  1999     165543.0\n15  2000     188305.0\n16  2001     199235.0\n17  2002     175986.0\n18  2003     196949.0\n19  2004     192027.0\n20  2005     163689.0\n21  2006     183132.0\n22  2007     169688.0\n23  2008     192607.0\n24  2009     200782.0\n25  2010     179311.0\n26  2011     197838.0\n27  2012     180957.0\n28  2013     172484.0\n29  2014     162234.0\n30  2015     157317.0\n31  2016      13794.0",
      "text/html": "<div>\n<style scoped>\n    .dataframe tbody tr th:only-of-type {\n        vertical-align: middle;\n    }\n\n    .dataframe tbody tr th {\n        vertical-align: top;\n    }\n\n    .dataframe thead th {\n        text-align: right;\n    }\n</style>\n<table border=\"1\" class=\"dataframe\">\n  <thead>\n    <tr style=\"text-align: right;\">\n      <th></th>\n      <th>year</th>\n      <th>suicides_no</th>\n    </tr>\n  </thead>\n  <tbody>\n    <tr>\n      <th>0</th>\n      <td>1985</td>\n      <td>89009.0</td>\n    </tr>\n    <tr>\n      <th>1</th>\n      <td>1986</td>\n      <td>87541.0</td>\n    </tr>\n    <tr>\n      <th>2</th>\n      <td>1987</td>\n      <td>101102.0</td>\n    </tr>\n    <tr>\n      <th>3</th>\n      <td>1988</td>\n      <td>94683.0</td>\n    </tr>\n    <tr>\n      <th>4</th>\n      <td>1989</td>\n      <td>120329.0</td>\n    </tr>\n    <tr>\n      <th>5</th>\n      <td>1990</td>\n      <td>131333.0</td>\n    </tr>\n    <tr>\n      <th>6</th>\n      <td>1991</td>\n      <td>159158.0</td>\n    </tr>\n    <tr>\n      <th>7</th>\n      <td>1992</td>\n      <td>160488.0</td>\n    </tr>\n    <tr>\n      <th>8</th>\n      <td>1993</td>\n      <td>166539.0</td>\n    </tr>\n    <tr>\n      <th>9</th>\n      <td>1994</td>\n      <td>199798.0</td>\n    </tr>\n    <tr>\n      <th>10</th>\n      <td>1995</td>\n      <td>183136.0</td>\n    </tr>\n    <tr>\n      <th>11</th>\n      <td>1996</td>\n      <td>175193.0</td>\n    </tr>\n    <tr>\n      <th>12</th>\n      <td>1997</td>\n      <td>179995.0</td>\n    </tr>\n    <tr>\n      <th>13</th>\n      <td>1998</td>\n      <td>188787.0</td>\n    </tr>\n    <tr>\n      <th>14</th>\n      <td>1999</td>\n      <td>165543.0</td>\n    </tr>\n    <tr>\n      <th>15</th>\n      <td>2000</td>\n      <td>188305.0</td>\n    </tr>\n    <tr>\n      <th>16</th>\n      <td>2001</td>\n      <td>199235.0</td>\n    </tr>\n    <tr>\n      <th>17</th>\n      <td>2002</td>\n      <td>175986.0</td>\n    </tr>\n    <tr>\n      <th>18</th>\n      <td>2003</td>\n      <td>196949.0</td>\n    </tr>\n    <tr>\n      <th>19</th>\n      <td>2004</td>\n      <td>192027.0</td>\n    </tr>\n    <tr>\n      <th>20</th>\n      <td>2005</td>\n      <td>163689.0</td>\n    </tr>\n    <tr>\n      <th>21</th>\n      <td>2006</td>\n      <td>183132.0</td>\n    </tr>\n    <tr>\n      <th>22</th>\n      <td>2007</td>\n      <td>169688.0</td>\n    </tr>\n    <tr>\n      <th>23</th>\n      <td>2008</td>\n      <td>192607.0</td>\n    </tr>\n    <tr>\n      <th>24</th>\n      <td>2009</td>\n      <td>200782.0</td>\n    </tr>\n    <tr>\n      <th>25</th>\n      <td>2010</td>\n      <td>179311.0</td>\n    </tr>\n    <tr>\n      <th>26</th>\n      <td>2011</td>\n      <td>197838.0</td>\n    </tr>\n    <tr>\n      <th>27</th>\n      <td>2012</td>\n      <td>180957.0</td>\n    </tr>\n    <tr>\n      <th>28</th>\n      <td>2013</td>\n      <td>172484.0</td>\n    </tr>\n    <tr>\n      <th>29</th>\n      <td>2014</td>\n      <td>162234.0</td>\n    </tr>\n    <tr>\n      <th>30</th>\n      <td>2015</td>\n      <td>157317.0</td>\n    </tr>\n    <tr>\n      <th>31</th>\n      <td>2016</td>\n      <td>13794.0</td>\n    </tr>\n  </tbody>\n</table>\n</div>"
     },
     "execution_count": 39,
     "metadata": {},
     "output_type": "execute_result"
    }
   ],
   "source": [
    "# Sum the number of suicides per year, then erase the index and assign a new dataframe\n",
    "df8 = df2.groupby([\"year\"])[\"suicides_no\"].sum().reset_index()\n",
    "df8"
   ],
   "metadata": {
    "collapsed": false,
    "ExecuteTime": {
     "end_time": "2023-12-11T20:18:43.948819700Z",
     "start_time": "2023-12-11T20:18:43.314483900Z"
    }
   }
  },
  {
   "cell_type": "code",
   "execution_count": 40,
   "outputs": [
    {
     "data": {
      "text/plain": "<Figure size 640x480 with 1 Axes>",
      "image/png": "[encoded data removed]"
     },
     "metadata": {},
     "output_type": "display_data"
    }
   ],
   "source": [
    "# Assign the data to the axis variables\n",
    "x = df8[\"year\"]\n",
    "y = df8[\"suicides_no\"]\n",
    "# plot line chart\n",
    "plt.plot(x, y, label=\"Suicides number\", color='red', linestyle='-', linewidth=1, marker='o')\n",
    "plt.xlabel('Years')\n",
    "plt.ylabel('Suicides')\n",
    "plt.title('Total suicides per year')\n",
    "plt.legend()\n",
    "plt.tight_layout()\n",
    "plt.show()"
   ],
   "metadata": {
    "collapsed": false,
    "ExecuteTime": {
     "end_time": "2023-12-11T20:18:44.373244200Z",
     "start_time": "2023-12-11T20:18:43.328625900Z"
    }
   }
  },
  {
   "cell_type": "markdown",
   "source": [
    "From the graph we can clearly see the number of suicides is increasing over the years until 1994, then it varies reasonably, until the last year in which it drops considerably. Checking the data from the last 2 years its clear that there must be a good proportion of data from 2016 that is missing, so that year is not representative."
   ],
   "metadata": {
    "collapsed": false
   }
  },
  {
   "cell_type": "markdown",
   "metadata": {
    "collapsed": false
   },
   "source": [
    "m. Compare suicides by gender over years and state your conclusions:"
   ]
  },
  {
   "cell_type": "code",
   "execution_count": 41,
   "outputs": [
    {
     "data": {
      "text/plain": "    year     sex  suicides_no\n0   1985  female      27115.0\n1   1985    male      61894.0\n2   1986  female      27606.0\n3   1986    male      59935.0\n4   1987  female      28454.0\n..   ...     ...          ...\n57  2013    male     131411.0\n58  2014  female      40756.0\n59  2014    male     121478.0\n60  2015  female      31012.0\n61  2015    male     126305.0\n\n[62 rows x 3 columns]",
      "text/html": "<div>\n<style scoped>\n    .dataframe tbody tr th:only-of-type {\n        vertical-align: middle;\n    }\n\n    .dataframe tbody tr th {\n        vertical-align: top;\n    }\n\n    .dataframe thead th {\n        text-align: right;\n    }\n</style>\n<table border=\"1\" class=\"dataframe\">\n  <thead>\n    <tr style=\"text-align: right;\">\n      <th></th>\n      <th>year</th>\n      <th>sex</th>\n      <th>suicides_no</th>\n    </tr>\n  </thead>\n  <tbody>\n    <tr>\n      <th>0</th>\n      <td>1985</td>\n      <td>female</td>\n      <td>27115.0</td>\n    </tr>\n    <tr>\n      <th>1</th>\n      <td>1985</td>\n      <td>male</td>\n      <td>61894.0</td>\n    </tr>\n    <tr>\n      <th>2</th>\n      <td>1986</td>\n      <td>female</td>\n      <td>27606.0</td>\n    </tr>\n    <tr>\n      <th>3</th>\n      <td>1986</td>\n      <td>male</td>\n      <td>59935.0</td>\n    </tr>\n    <tr>\n      <th>4</th>\n      <td>1987</td>\n      <td>female</td>\n      <td>28454.0</td>\n    </tr>\n    <tr>\n      <th>...</th>\n      <td>...</td>\n      <td>...</td>\n      <td>...</td>\n    </tr>\n    <tr>\n      <th>57</th>\n      <td>2013</td>\n      <td>male</td>\n      <td>131411.0</td>\n    </tr>\n    <tr>\n      <th>58</th>\n      <td>2014</td>\n      <td>female</td>\n      <td>40756.0</td>\n    </tr>\n    <tr>\n      <th>59</th>\n      <td>2014</td>\n      <td>male</td>\n      <td>121478.0</td>\n    </tr>\n    <tr>\n      <th>60</th>\n      <td>2015</td>\n      <td>female</td>\n      <td>31012.0</td>\n    </tr>\n    <tr>\n      <th>61</th>\n      <td>2015</td>\n      <td>male</td>\n      <td>126305.0</td>\n    </tr>\n  </tbody>\n</table>\n<p>62 rows × 3 columns</p>\n</div>"
     },
     "execution_count": 41,
     "metadata": {},
     "output_type": "execute_result"
    }
   ],
   "source": [
    "# Sum the total number of suicides per year and sex, then erase the index and assign a new dataframe\n",
    "df9 = df2.groupby([\"year\", \"sex\"])[\"suicides_no\"].sum().reset_index()\n",
    "df9.sort_values(\"year\")\n",
    "# To drop year 2016 because it's not reliable\n",
    "df9.drop([62,63], inplace= True)\n",
    "df9"
   ],
   "metadata": {
    "collapsed": false,
    "ExecuteTime": {
     "end_time": "2023-12-11T20:18:44.514863200Z",
     "start_time": "2023-12-11T20:18:43.555125300Z"
    }
   }
  },
  {
   "cell_type": "code",
   "execution_count": 42,
   "outputs": [
    {
     "name": "stdout",
     "output_type": "stream",
     "text": [
      "[27115.0, 27606.0, 28454.0, 24807.0, 32757.0, 35529.0, 40109.0, 41820.0, 44239.0, 44539.0, 45279.0, 44764.0, 39915.0, 43697.0, 41509.0, 43968.0, 40480.0, 41581.0, 41470.0, 41010.0, 40245.0, 44308.0, 41147.0, 42885.0, 40439.0, 32469.0, 45049.0, 46918.0, 41073.0, 40756.0, 31012.0]\n",
      "[61894.0, 59935.0, 72648.0, 69876.0, 87572.0, 95804.0, 119049.0, 118668.0, 122300.0, 155259.0, 137857.0, 130429.0, 140080.0, 145090.0, 124034.0, 144337.0, 158755.0, 134405.0, 155479.0, 151017.0, 123444.0, 138824.0, 128541.0, 149722.0, 160343.0, 146842.0, 152789.0, 134039.0, 131411.0, 121478.0, 126305.0]\n",
      "[1985, 1986, 1987, 1988, 1989, 1990, 1991, 1992, 1993, 1994, 1995, 1996, 1997, 1998, 1999, 2000, 2001, 2002, 2003, 2004, 2005, 2006, 2007, 2008, 2009, 2010, 2011, 2012, 2013, 2014, 2015]\n"
     ]
    }
   ],
   "source": [
    "# I need the number of suicides separated by females, males\n",
    "# I defined new data frames separating the data by sex\n",
    "f = df9[df9[\"sex\"]==\"female\"]\n",
    "m = df9[df9[\"sex\"]==\"male\"]\n",
    "# Making a list of the number of suicides by gender \n",
    "sf = f[\"suicides_no\"].tolist()\n",
    "sm = m[\"suicides_no\"].tolist()\n",
    "# making a list of the years (assuming the list of years is the same for males and females)\n",
    "years = f[\"year\"].tolist()\n",
    "print(sf)\n",
    "print(sm)\n",
    "print(years)"
   ],
   "metadata": {
    "collapsed": false,
    "ExecuteTime": {
     "end_time": "2023-12-11T20:18:44.514863200Z",
     "start_time": "2023-12-11T20:18:43.565512400Z"
    }
   }
  },
  {
   "cell_type": "code",
   "execution_count": 44,
   "outputs": [
    {
     "data": {
      "text/plain": "<Figure size 800x500 with 1 Axes>",
      "image/png": "[encoded data removed]"
     },
     "metadata": {},
     "output_type": "display_data"
    }
   ],
   "source": [
    "# Generating a line chart with 2 lines\n",
    "plt.figure(figsize=(8,5))\n",
    "plt.plot(years, sf, label=\"Females\", marker='o')\n",
    "plt.plot(years, sm, label=\"Males\", marker='x')\n",
    "plt.xlabel('Years')\n",
    "plt.ylabel('Suicides')\n",
    "plt.title('Suicides by gender over years')\n",
    "#plt.legend()\n",
    "plt.legend(loc=0) # loc=0: find the optimal location, 1 top right\n",
    "plt.show()"
   ],
   "metadata": {
    "collapsed": false,
    "ExecuteTime": {
     "end_time": "2023-12-11T20:22:33.857283800Z",
     "start_time": "2023-12-11T20:22:33.687470600Z"
    }
   }
  },
  {
   "cell_type": "markdown",
   "source": [
    "Conclusions: From the graph it is clear that the number of suicides by males is considerably higher than the one of females. It also varies more."
   ],
   "metadata": {
    "collapsed": false
   }
  },
  {
   "cell_type": "markdown",
   "metadata": {
    "collapsed": false
   },
   "source": [
    "n. Calculate and visualise suicides on generation and on age group. Describe findings"
   ]
  },
  {
   "cell_type": "code",
   "execution_count": 62,
   "outputs": [
    {
     "data": {
      "text/plain": "         Generation          age  suicides_no  Order\n3   G.I. Generation    75+ years     289285.0      1\n14           Silent  55-74 years     563381.0      2\n15           Silent    75+ years     247445.0      2\n0           Boomers  25-34 years      93915.0      3\n1           Boomers  35-54 years     750122.0      3\n2           Boomers  55-74 years     682043.0      3\n4      Generation X  15-24 years     187062.0      4\n5      Generation X  25-34 years     503211.0      4\n6      Generation X  35-54 years    1024196.0      4\n7      Generation X   5-14 years        750.0      4\n10      Millennials  15-24 years     355631.0      5\n11      Millennials  25-34 years     282121.0      5\n12      Millennials  35-54 years       5127.0      5\n13      Millennials   5-14 years      20896.0      5\n8      Generation Z  15-24 years      99340.0      6\n9      Generation Z   5-14 years      24444.0      6",
      "text/html": "<div>\n<style scoped>\n    .dataframe tbody tr th:only-of-type {\n        vertical-align: middle;\n    }\n\n    .dataframe tbody tr th {\n        vertical-align: top;\n    }\n\n    .dataframe thead th {\n        text-align: right;\n    }\n</style>\n<table border=\"1\" class=\"dataframe\">\n  <thead>\n    <tr style=\"text-align: right;\">\n      <th></th>\n      <th>Generation</th>\n      <th>age</th>\n      <th>suicides_no</th>\n      <th>Order</th>\n    </tr>\n  </thead>\n  <tbody>\n    <tr>\n      <th>3</th>\n      <td>G.I. Generation</td>\n      <td>75+ years</td>\n      <td>289285.0</td>\n      <td>1</td>\n    </tr>\n    <tr>\n      <th>14</th>\n      <td>Silent</td>\n      <td>55-74 years</td>\n      <td>563381.0</td>\n      <td>2</td>\n    </tr>\n    <tr>\n      <th>15</th>\n      <td>Silent</td>\n      <td>75+ years</td>\n      <td>247445.0</td>\n      <td>2</td>\n    </tr>\n    <tr>\n      <th>0</th>\n      <td>Boomers</td>\n      <td>25-34 years</td>\n      <td>93915.0</td>\n      <td>3</td>\n    </tr>\n    <tr>\n      <th>1</th>\n      <td>Boomers</td>\n      <td>35-54 years</td>\n      <td>750122.0</td>\n      <td>3</td>\n    </tr>\n    <tr>\n      <th>2</th>\n      <td>Boomers</td>\n      <td>55-74 years</td>\n      <td>682043.0</td>\n      <td>3</td>\n    </tr>\n    <tr>\n      <th>4</th>\n      <td>Generation X</td>\n      <td>15-24 years</td>\n      <td>187062.0</td>\n      <td>4</td>\n    </tr>\n    <tr>\n      <th>5</th>\n      <td>Generation X</td>\n      <td>25-34 years</td>\n      <td>503211.0</td>\n      <td>4</td>\n    </tr>\n    <tr>\n      <th>6</th>\n      <td>Generation X</td>\n      <td>35-54 years</td>\n      <td>1024196.0</td>\n      <td>4</td>\n    </tr>\n    <tr>\n      <th>7</th>\n      <td>Generation X</td>\n      <td>5-14 years</td>\n      <td>750.0</td>\n      <td>4</td>\n    </tr>\n    <tr>\n      <th>10</th>\n      <td>Millennials</td>\n      <td>15-24 years</td>\n      <td>355631.0</td>\n      <td>5</td>\n    </tr>\n    <tr>\n      <th>11</th>\n      <td>Millennials</td>\n      <td>25-34 years</td>\n      <td>282121.0</td>\n      <td>5</td>\n    </tr>\n    <tr>\n      <th>12</th>\n      <td>Millennials</td>\n      <td>35-54 years</td>\n      <td>5127.0</td>\n      <td>5</td>\n    </tr>\n    <tr>\n      <th>13</th>\n      <td>Millennials</td>\n      <td>5-14 years</td>\n      <td>20896.0</td>\n      <td>5</td>\n    </tr>\n    <tr>\n      <th>8</th>\n      <td>Generation Z</td>\n      <td>15-24 years</td>\n      <td>99340.0</td>\n      <td>6</td>\n    </tr>\n    <tr>\n      <th>9</th>\n      <td>Generation Z</td>\n      <td>5-14 years</td>\n      <td>24444.0</td>\n      <td>6</td>\n    </tr>\n  </tbody>\n</table>\n</div>"
     },
     "execution_count": 62,
     "metadata": {},
     "output_type": "execute_result"
    }
   ],
   "source": [
    "df10 = df2.groupby([\"Generation\", \"age\"])[\"suicides_no\"].sum().reset_index()\n",
    "dict_g = {\"Generation\": [\"G.I. Generation\", \"Silent\", \"Boomers\", \"Generation X\", \"Millennials\", \"Generation Z\"], \"Order\": [1, 2, 3, 4, 5, 6]}\n",
    "df_g = pd.DataFrame(dict_g)\n",
    "df_go = pd.merge(df10, df_g, on=\"Generation\", how='left')\n",
    "df_go.sort_values(\"Order\", inplace= True)\n",
    "df_go"
   ],
   "metadata": {
    "collapsed": false,
    "ExecuteTime": {
     "end_time": "2023-12-11T20:54:09.203071600Z",
     "start_time": "2023-12-11T20:54:09.171392500Z"
    }
   }
  },
  {
   "cell_type": "code",
   "execution_count": 73,
   "outputs": [],
   "source": [
    "# Found the example in: https://matplotlib.org/stable/gallery/lines_bars_and_markers/bar_stacked.html\n",
    "# Creating a list of generations:\n",
    "generations = df_go[\"Generation\"].unique().tolist()\n",
    "# Creating a list of age ranges:\n",
    "ages = [\"5-14 years\", \"15-24 years\", \"25-34 years\", \"35-54 years\", \"55-74 years\", \"75+ years\"]"
   ],
   "metadata": {
    "collapsed": false,
    "ExecuteTime": {
     "end_time": "2023-12-11T21:28:59.584723Z",
     "start_time": "2023-12-11T21:28:59.578116900Z"
    }
   }
  },
  {
   "cell_type": "code",
   "execution_count": 79,
   "outputs": [
    {
     "name": "stdout",
     "output_type": "stream",
     "text": [
      "{'5-14 years': [0, 0, 0, 750, 20896, 24444], '15-24 years': [0, 0, 0, 187062, 355631, 99340], '25-34 years': [0, 0, 93915, 503211, 282121, 0], '35-54 years': [0, 0, 750122, 1024196, 5127, 0], '55-74 years': [0, 563381, 682043, 0, 0, 0], '75+ years': [289285, 247445, 0, 0, 0, 0]}\n"
     ]
    },
    {
     "name": "stderr",
     "output_type": "stream",
     "text": [
      "C:\\Users\\Ana Cuba\\AppData\\Local\\Temp\\ipykernel_8688\\1034696574.py:12: FutureWarning: Calling int on a single element Series is deprecated and will raise a TypeError in the future. Use int(ser.iloc[0]) instead\n",
      "  sxg.append(int(df_gg[\"suicides_no\"]))\n"
     ]
    }
   ],
   "source": [
    "# Creating a dictionary to put the number of suicides by age range and generation:\n",
    "suicides = {}\n",
    "\n",
    "for a in ages:\n",
    "    # dataframe of rows in an age range\n",
    "    df_ga = df_go[df_go[\"age\"] == a]  \n",
    "    # list of values of suicides per generation\n",
    "    sxg = []                                       \n",
    "    for g in generations:\n",
    "        # dataframe of rows for a generation of the dataframe of ages\n",
    "        df_gg = df_ga[df_ga[\"Generation\"] == g]   \n",
    "        # if a generation doesn't have data in an age range:\n",
    "        if df_gg.empty:                             \n",
    "            sxg.append(0) # add 0 in the list of suicides values                          \n",
    "        else:\n",
    "            # add the value of suicides to the list\n",
    "            sxg.append(int(df_gg[\"suicides_no\"]))\n",
    "    # finally, the dictionary of suicides has the age ranges as keys and the list of values of suicides per generation as values \n",
    "    suicides[a] = sxg                               \n",
    "       \n",
    "print(suicides)"
   ],
   "metadata": {
    "collapsed": false,
    "ExecuteTime": {
     "end_time": "2023-12-11T21:37:51.773397600Z",
     "start_time": "2023-12-11T21:37:51.760730100Z"
    }
   }
  },
  {
   "cell_type": "code",
   "execution_count": 76,
   "outputs": [],
   "source": [
    "import numpy as np"
   ],
   "metadata": {
    "collapsed": false,
    "ExecuteTime": {
     "end_time": "2023-12-11T21:30:07.429537100Z",
     "start_time": "2023-12-11T21:30:07.407610500Z"
    }
   }
  },
  {
   "cell_type": "code",
   "execution_count": 80,
   "outputs": [
    {
     "data": {
      "text/plain": "<Figure size 640x480 with 1 Axes>",
      "image/png": "[encoded data removed]"
     },
     "metadata": {},
     "output_type": "display_data"
    }
   ],
   "source": [
    "# To generate the graph:\n",
    "# First define the width of the x range\n",
    "width = 0.5\n",
    "# creating a figure with subplots:\n",
    "fig, ax = plt.subplots()\n",
    "# array of 6 elements (the length of values of list generations) with value 0:\n",
    "bottom = np.zeros(len(generations))\n",
    "\n",
    "# To draw the bar plot with the dictionary suicides:\n",
    "for age_range, s_count in suicides.items():\n",
    "    p = ax.bar(generations, s_count, width, label=age_range, bottom=bottom)\n",
    "    bottom += s_count\n",
    "\n",
    "ax.set_title(\"Suicides per generation and age\")\n",
    "ax.legend(loc=\"upper right\")\n",
    "\n",
    "plt.show()"
   ],
   "metadata": {
    "collapsed": false,
    "ExecuteTime": {
     "end_time": "2023-12-11T21:37:55.309647500Z",
     "start_time": "2023-12-11T21:37:55.129328Z"
    }
   }
  },
  {
   "cell_type": "markdown",
   "source": [
    "Conclusions: From this graph its visible how the number of suicides in our dataset increases by generation until Generation X and then decreases again. This is not only related to the nature of the suicides, but to the years the samples were taken as well. It also looks like most cases are in the ranges of 35-54 years and 55-74 years. It may be confusing to say that the number of suicides of younger people increases over time, but it also has to do with the years the sample were taken. From these records no suicide of younger people belonged to Boomers for instance. And no people from the G.I. Generation was younger than 75."
   ],
   "metadata": {
    "collapsed": false
   }
  },
  {
   "cell_type": "code",
   "execution_count": null,
   "outputs": [],
   "source": [],
   "metadata": {
    "collapsed": false
   }
  }
 ],
 "metadata": {
  "colab": {
   "provenance": []
  },
  "kernelspec": {
   "display_name": "Python 3 (ipykernel)",
   "language": "python",
   "name": "python3"
  },
  "language_info": {
   "codemirror_mode": {
    "name": "ipython",
    "version": 3
   },
   "file_extension": ".py",
   "mimetype": "text/x-python",
   "name": "python",
   "nbconvert_exporter": "python",
   "pygments_lexer": "ipython3",
   "version": "3.11.0"
  }
 },
 "nbformat": 4,
 "nbformat_minor": 4
}
